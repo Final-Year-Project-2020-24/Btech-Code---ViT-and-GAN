{
 "cells": [
  {
   "cell_type": "code",
   "execution_count": 1,
   "metadata": {},
   "outputs": [],
   "source": [
    "import matplotlib.pyplot as plt\n",
    "import numpy as np\n",
    "import pandas as pd\n",
    "import os\n",
    "from glob import glob\n",
    "import seaborn as sns\n",
    "from PIL import Image\n",
    "np.random.seed(123)\n",
    "from sklearn.preprocessing import label_binarize\n",
    "from sklearn.metrics import confusion_matrix\n",
    "import itertools\n",
    "\n",
    "import pandas as pd\n",
    "import numpy as np\n",
    "import keras\n",
    "from keras import backend as K\n",
    "\n",
    "import tensorflow as tf\n",
    "from tensorflow.keras.layers import Dense, Dropout\n",
    "from tensorflow.keras.optimizers import Adam, SGD\n",
    "from tensorflow.keras.metrics import categorical_crossentropy\n",
    "from tensorflow.keras.preprocessing.image import ImageDataGenerator\n",
    "from tensorflow.keras.models import Model\n",
    "from tensorflow.keras.callbacks import EarlyStopping, ReduceLROnPlateau, ModelCheckpoint\n",
    "\n",
    "import os\n",
    "\n",
    "from sklearn.metrics import confusion_matrix\n",
    "from sklearn.model_selection import train_test_split\n",
    "import itertools\n",
    "import shutil\n",
    "import matplotlib.pyplot as plt"
   ]
  },
  {
   "cell_type": "code",
   "execution_count": 2,
   "metadata": {},
   "outputs": [
    {
     "name": "stdout",
     "output_type": "stream",
     "text": [
      "WARNING:tensorflow:From C:\\Users\\cl502_12\\AppData\\Local\\Temp\\ipykernel_86008\\3157571860.py:1: is_gpu_available (from tensorflow.python.framework.test_util) is deprecated and will be removed in a future version.\n",
      "Instructions for updating:\n",
      "Use `tf.config.list_physical_devices('GPU')` instead.\n",
      "GPU is available.\n"
     ]
    }
   ],
   "source": [
    "if tf.test.is_gpu_available():\n",
    "    print(\"GPU is available.\")\n",
    "else:\n",
    "    print(\"GPU is NOT available.\")"
   ]
  },
  {
   "cell_type": "code",
   "execution_count": null,
   "metadata": {},
   "outputs": [],
   "source": [
    "# Resnet 50 V2 feature vector\n",
    "resnet_url = \"https://tfhub.dev/google/imagenet/resnet_v2_50/feature_vector/4\"\n",
    "\n",
    "# # Original: EfficientNetB0 feature vector (version 1)\n",
    "# efficientnet_url = \"https://tfhub.dev/tensorflow/efficientnet/b0/feature-vector/1\"\n",
    "\n",
    "# # New: EfficientNetB0 feature vector (version 2)\n",
    "efficientnet_url = \"https://tfhub.dev/google/imagenet/efficientnet_v2_imagenet1k_b0/feature_vector/2\""
   ]
  },
  {
   "cell_type": "code",
   "execution_count": 3,
   "metadata": {},
   "outputs": [
    {
     "data": {
      "text/html": [
       "<div>\n",
       "<style scoped>\n",
       "    .dataframe tbody tr th:only-of-type {\n",
       "        vertical-align: middle;\n",
       "    }\n",
       "\n",
       "    .dataframe tbody tr th {\n",
       "        vertical-align: top;\n",
       "    }\n",
       "\n",
       "    .dataframe thead th {\n",
       "        text-align: right;\n",
       "    }\n",
       "</style>\n",
       "<table border=\"1\" class=\"dataframe\">\n",
       "  <thead>\n",
       "    <tr style=\"text-align: right;\">\n",
       "      <th></th>\n",
       "      <th>image</th>\n",
       "      <th>age_approx</th>\n",
       "      <th>anatom_site_general</th>\n",
       "      <th>sex</th>\n",
       "      <th>labels</th>\n",
       "      <th>cell_type</th>\n",
       "      <th>path</th>\n",
       "      <th>cell_type_idx</th>\n",
       "    </tr>\n",
       "  </thead>\n",
       "  <tbody>\n",
       "    <tr>\n",
       "      <th>0</th>\n",
       "      <td>ISIC_0000000</td>\n",
       "      <td>55.0</td>\n",
       "      <td>anterior torso</td>\n",
       "      <td>female</td>\n",
       "      <td>NV</td>\n",
       "      <td>Melanocytic Nevus</td>\n",
       "      <td>C:/Users/cl502_12/Desktop/ISIC_Dataset/ISIC_20...</td>\n",
       "      <td>4</td>\n",
       "    </tr>\n",
       "    <tr>\n",
       "      <th>1</th>\n",
       "      <td>ISIC_0000001</td>\n",
       "      <td>30.0</td>\n",
       "      <td>anterior torso</td>\n",
       "      <td>female</td>\n",
       "      <td>NV</td>\n",
       "      <td>Melanocytic Nevus</td>\n",
       "      <td>C:/Users/cl502_12/Desktop/ISIC_Dataset/ISIC_20...</td>\n",
       "      <td>4</td>\n",
       "    </tr>\n",
       "    <tr>\n",
       "      <th>2</th>\n",
       "      <td>ISIC_0000002</td>\n",
       "      <td>60.0</td>\n",
       "      <td>upper extremity</td>\n",
       "      <td>female</td>\n",
       "      <td>MEL</td>\n",
       "      <td>Melanoma</td>\n",
       "      <td>C:/Users/cl502_12/Desktop/ISIC_Dataset/ISIC_20...</td>\n",
       "      <td>5</td>\n",
       "    </tr>\n",
       "    <tr>\n",
       "      <th>3</th>\n",
       "      <td>ISIC_0000003</td>\n",
       "      <td>30.0</td>\n",
       "      <td>upper extremity</td>\n",
       "      <td>male</td>\n",
       "      <td>NV</td>\n",
       "      <td>Melanocytic Nevus</td>\n",
       "      <td>C:/Users/cl502_12/Desktop/ISIC_Dataset/ISIC_20...</td>\n",
       "      <td>4</td>\n",
       "    </tr>\n",
       "    <tr>\n",
       "      <th>4</th>\n",
       "      <td>ISIC_0000004</td>\n",
       "      <td>80.0</td>\n",
       "      <td>posterior torso</td>\n",
       "      <td>male</td>\n",
       "      <td>MEL</td>\n",
       "      <td>Melanoma</td>\n",
       "      <td>C:/Users/cl502_12/Desktop/ISIC_Dataset/ISIC_20...</td>\n",
       "      <td>5</td>\n",
       "    </tr>\n",
       "  </tbody>\n",
       "</table>\n",
       "</div>"
      ],
      "text/plain": [
       "          image  age_approx anatom_site_general     sex labels  \\\n",
       "0  ISIC_0000000        55.0      anterior torso  female     NV   \n",
       "1  ISIC_0000001        30.0      anterior torso  female     NV   \n",
       "2  ISIC_0000002        60.0     upper extremity  female    MEL   \n",
       "3  ISIC_0000003        30.0     upper extremity    male     NV   \n",
       "4  ISIC_0000004        80.0     posterior torso    male    MEL   \n",
       "\n",
       "           cell_type                                               path  \\\n",
       "0  Melanocytic Nevus  C:/Users/cl502_12/Desktop/ISIC_Dataset/ISIC_20...   \n",
       "1  Melanocytic Nevus  C:/Users/cl502_12/Desktop/ISIC_Dataset/ISIC_20...   \n",
       "2           Melanoma  C:/Users/cl502_12/Desktop/ISIC_Dataset/ISIC_20...   \n",
       "3  Melanocytic Nevus  C:/Users/cl502_12/Desktop/ISIC_Dataset/ISIC_20...   \n",
       "4           Melanoma  C:/Users/cl502_12/Desktop/ISIC_Dataset/ISIC_20...   \n",
       "\n",
       "   cell_type_idx  \n",
       "0              4  \n",
       "1              4  \n",
       "2              5  \n",
       "3              4  \n",
       "4              5  "
      ]
     },
     "execution_count": 3,
     "metadata": {},
     "output_type": "execute_result"
    }
   ],
   "source": [
    "df = pd.read_csv(\"C:/Users/cl502_12/Desktop/ISIC_Dataset/ISIC_2019_Training_Metadata.csv\").drop(\"lesion_id\", axis=1)\n",
    "im_df = pd.read_csv(\"C:/Users/cl502_12/Desktop/ISIC_Dataset/ISIC_2019_Training_GroundTruth.csv\").drop(\"UNK\", axis=1)\n",
    "im_df[\"labels\"] = im_df.iloc[:, 1:].idxmax(axis=1)\n",
    "\n",
    "df = df.join(im_df.set_index(\"image\"), on=[\"image\"]).drop([\"MEL\", \"NV\", \"BCC\", \"AK\", \"DF\", \"VASC\", \"SCC\", \"BKL\"], axis=1)\n",
    "df = df[~df[\"image\"].str.contains(\"downsampled\")]\n",
    "\n",
    "skin_lesion_dict = {\n",
    "    \"MEL\": \"Melanoma\",\n",
    "    \"NV\": \"Melanocytic Nevus\",\n",
    "    \"BCC\": \"Basal Cell Carcinoma\",\n",
    "    \"AK\": \"Actinic Keratosis\",\n",
    "    \"BKL\": \"Benign Keratosis\",\n",
    "    \"DF\": \"Dermatofibroma\",\n",
    "    \"VASC\": \"Vascular Lesion\",\n",
    "    \"SCC\": \"Squamous Cell Carcinoma\"\n",
    "}\n",
    "\n",
    "df['cell_type'] = df['labels'].map(skin_lesion_dict.get) \n",
    "\n",
    "# Define the directory where the images are located\n",
    "image_directory = \"C:/Users/cl502_12/Desktop/ISIC_Dataset/ISIC_2019_Training_Input/\"\n",
    "\n",
    "# Create a new column 'image_path' in the DataFrame\n",
    "df['path'] = df['image'].apply(lambda filename: os.path.join(image_directory, filename))\n",
    "\n",
    "\n",
    "df['cell_type_idx'] = pd.Categorical(df['cell_type']).codes\n",
    "# labels = {\"NV\": 0, \"MEL\": 1, \"BCC\": 1, \"BKL\": 0, \"AK\": 0, \"SCC\": 1, \"VASC\": 0, \"DF\": 0}\n",
    "\n",
    "\n",
    "df.head()"
   ]
  },
  {
   "cell_type": "code",
   "execution_count": 4,
   "metadata": {},
   "outputs": [
    {
     "name": "stdout",
     "output_type": "stream",
     "text": [
      "Value: Actinic Keratosis, Code: 0\n",
      "Value: Basal Cell Carcinoma, Code: 1\n",
      "Value: Benign Keratosis, Code: 2\n",
      "Value: Dermatofibroma, Code: 3\n",
      "Value: Melanocytic Nevus, Code: 4\n",
      "Value: Melanoma, Code: 5\n",
      "Value: Squamous Cell Carcinoma, Code: 6\n",
      "Value: Vascular Lesion, Code: 7\n"
     ]
    }
   ],
   "source": [
    "# Assuming you already have the 'cell_type_idx' column in your DataFrame 'df'\n",
    "# Group the DataFrame by 'cell_type' and iterate through the groups\n",
    "grouped = df.groupby(['cell_type', 'cell_type_idx'])\n",
    "\n",
    "for name, group in grouped:\n",
    "    print(f\"Value: {name[0]}, Code: {name[1]}\")\n"
   ]
  },
  {
   "cell_type": "code",
   "execution_count": null,
   "metadata": {},
   "outputs": [],
   "source": [
    "# df['path'] = df['path'] + '.jpg'\n",
    "\n",
    "# # Load images, convert to NumPy arrays, and add them to a new 'image' column\n",
    "# df['image'] = df['path'].map(lambda x: np.asarray(Image.open(x)))\n",
    "\n",
    "# # Sample images\n",
    "# n_samples = 5\n",
    "# fig, m_axs = plt.subplots(8, n_samples, figsize=(4 * n_samples, 3 * 8))\n",
    "# for n_axs, (type_name, type_rows) in zip(m_axs, df.sort_values(['cell_type']).groupby('cell_type')):\n",
    "#     n_axs[0].set_title(type_name)\n",
    "#     for c_ax, (_, c_row) in zip(n_axs, type_rows.sample(n_samples, random_state=1234).iterrows()):\n",
    "#         c_ax.imshow(c_row['image'])\n",
    "#         c_ax.axis('off')\n",
    "# fig.savefig('category_samples.png', dpi=500)\n",
    "# plt.show()\n"
   ]
  },
  {
   "cell_type": "code",
   "execution_count": 5,
   "metadata": {},
   "outputs": [
    {
     "data": {
      "text/plain": [
       "image                     0\n",
       "age_approx              223\n",
       "anatom_site_general    1883\n",
       "sex                     204\n",
       "labels                    0\n",
       "cell_type                 0\n",
       "path                      0\n",
       "cell_type_idx             0\n",
       "dtype: int64"
      ]
     },
     "execution_count": 5,
     "metadata": {},
     "output_type": "execute_result"
    }
   ],
   "source": [
    "df.isnull().sum()"
   ]
  },
  {
   "cell_type": "code",
   "execution_count": 6,
   "metadata": {},
   "outputs": [
    {
     "data": {
      "text/html": [
       "<div>\n",
       "<style scoped>\n",
       "    .dataframe tbody tr th:only-of-type {\n",
       "        vertical-align: middle;\n",
       "    }\n",
       "\n",
       "    .dataframe tbody tr th {\n",
       "        vertical-align: top;\n",
       "    }\n",
       "\n",
       "    .dataframe thead th {\n",
       "        text-align: right;\n",
       "    }\n",
       "</style>\n",
       "<table border=\"1\" class=\"dataframe\">\n",
       "  <thead>\n",
       "    <tr style=\"text-align: right;\">\n",
       "      <th></th>\n",
       "      <th>image</th>\n",
       "      <th>age_approx</th>\n",
       "      <th>anatom_site_general</th>\n",
       "      <th>sex</th>\n",
       "      <th>labels</th>\n",
       "      <th>cell_type</th>\n",
       "      <th>path</th>\n",
       "      <th>cell_type_idx</th>\n",
       "      <th>age_bins</th>\n",
       "    </tr>\n",
       "  </thead>\n",
       "  <tbody>\n",
       "    <tr>\n",
       "      <th>0</th>\n",
       "      <td>ISIC_0000000</td>\n",
       "      <td>55</td>\n",
       "      <td>anterior torso</td>\n",
       "      <td>female</td>\n",
       "      <td>NV</td>\n",
       "      <td>Melanocytic Nevus</td>\n",
       "      <td>C:/Users/cl502_12/Desktop/ISIC_Dataset/ISIC_20...</td>\n",
       "      <td>4</td>\n",
       "      <td>2</td>\n",
       "    </tr>\n",
       "    <tr>\n",
       "      <th>1</th>\n",
       "      <td>ISIC_0000001</td>\n",
       "      <td>30</td>\n",
       "      <td>anterior torso</td>\n",
       "      <td>female</td>\n",
       "      <td>NV</td>\n",
       "      <td>Melanocytic Nevus</td>\n",
       "      <td>C:/Users/cl502_12/Desktop/ISIC_Dataset/ISIC_20...</td>\n",
       "      <td>4</td>\n",
       "      <td>1</td>\n",
       "    </tr>\n",
       "    <tr>\n",
       "      <th>2</th>\n",
       "      <td>ISIC_0000002</td>\n",
       "      <td>60</td>\n",
       "      <td>upper extremity</td>\n",
       "      <td>female</td>\n",
       "      <td>MEL</td>\n",
       "      <td>Melanoma</td>\n",
       "      <td>C:/Users/cl502_12/Desktop/ISIC_Dataset/ISIC_20...</td>\n",
       "      <td>5</td>\n",
       "      <td>2</td>\n",
       "    </tr>\n",
       "    <tr>\n",
       "      <th>3</th>\n",
       "      <td>ISIC_0000003</td>\n",
       "      <td>30</td>\n",
       "      <td>upper extremity</td>\n",
       "      <td>male</td>\n",
       "      <td>NV</td>\n",
       "      <td>Melanocytic Nevus</td>\n",
       "      <td>C:/Users/cl502_12/Desktop/ISIC_Dataset/ISIC_20...</td>\n",
       "      <td>4</td>\n",
       "      <td>1</td>\n",
       "    </tr>\n",
       "    <tr>\n",
       "      <th>4</th>\n",
       "      <td>ISIC_0000004</td>\n",
       "      <td>80</td>\n",
       "      <td>posterior torso</td>\n",
       "      <td>male</td>\n",
       "      <td>MEL</td>\n",
       "      <td>Melanoma</td>\n",
       "      <td>C:/Users/cl502_12/Desktop/ISIC_Dataset/ISIC_20...</td>\n",
       "      <td>5</td>\n",
       "      <td>3</td>\n",
       "    </tr>\n",
       "  </tbody>\n",
       "</table>\n",
       "</div>"
      ],
      "text/plain": [
       "          image  age_approx anatom_site_general     sex labels  \\\n",
       "0  ISIC_0000000          55      anterior torso  female     NV   \n",
       "1  ISIC_0000001          30      anterior torso  female     NV   \n",
       "2  ISIC_0000002          60     upper extremity  female    MEL   \n",
       "3  ISIC_0000003          30     upper extremity    male     NV   \n",
       "4  ISIC_0000004          80     posterior torso    male    MEL   \n",
       "\n",
       "           cell_type                                               path  \\\n",
       "0  Melanocytic Nevus  C:/Users/cl502_12/Desktop/ISIC_Dataset/ISIC_20...   \n",
       "1  Melanocytic Nevus  C:/Users/cl502_12/Desktop/ISIC_Dataset/ISIC_20...   \n",
       "2           Melanoma  C:/Users/cl502_12/Desktop/ISIC_Dataset/ISIC_20...   \n",
       "3  Melanocytic Nevus  C:/Users/cl502_12/Desktop/ISIC_Dataset/ISIC_20...   \n",
       "4           Melanoma  C:/Users/cl502_12/Desktop/ISIC_Dataset/ISIC_20...   \n",
       "\n",
       "   cell_type_idx  age_bins  \n",
       "0              4         2  \n",
       "1              4         1  \n",
       "2              5         2  \n",
       "3              4         1  \n",
       "4              5         3  "
      ]
     },
     "execution_count": 6,
     "metadata": {},
     "output_type": "execute_result"
    }
   ],
   "source": [
    "df[\"age_approx\"] = df[\"age_approx\"].fillna(df[\"age_approx\"].mean()).astype(\"int\")\n",
    "df[\"anatom_site_general\"] = df[\"anatom_site_general\"].fillna(\"unknown\")\n",
    "df[\"sex\"] = df[\"sex\"].fillna(\"unknown\")\n",
    "\n",
    "df[\"age_bins\"] = pd.cut(df[\"age_approx\"], bins=[-1, 20, 40, 60, 80, 95], labels=False)\n",
    "df.head()"
   ]
  },
  {
   "cell_type": "code",
   "execution_count": 7,
   "metadata": {},
   "outputs": [
    {
     "data": {
      "text/plain": [
       "image                  0\n",
       "age_approx             0\n",
       "anatom_site_general    0\n",
       "sex                    0\n",
       "labels                 0\n",
       "cell_type              0\n",
       "path                   0\n",
       "cell_type_idx          0\n",
       "age_bins               0\n",
       "dtype: int64"
      ]
     },
     "execution_count": 7,
     "metadata": {},
     "output_type": "execute_result"
    }
   ],
   "source": [
    "df.isnull().sum()"
   ]
  },
  {
   "cell_type": "code",
   "execution_count": 8,
   "metadata": {},
   "outputs": [
    {
     "data": {
      "text/plain": [
       "labels\n",
       "NV      0.497012\n",
       "MEL     0.178355\n",
       "BCC     0.142882\n",
       "BKL     0.096315\n",
       "AK      0.037279\n",
       "SCC     0.027003\n",
       "VASC    0.010878\n",
       "DF      0.010276\n",
       "Name: proportion, dtype: float64"
      ]
     },
     "execution_count": 8,
     "metadata": {},
     "output_type": "execute_result"
    }
   ],
   "source": [
    "df[\"labels\"].value_counts(normalize=True)"
   ]
  },
  {
   "cell_type": "code",
   "execution_count": 9,
   "metadata": {},
   "outputs": [
    {
     "data": {
      "text/html": [
       "<div>\n",
       "<style scoped>\n",
       "    .dataframe tbody tr th:only-of-type {\n",
       "        vertical-align: middle;\n",
       "    }\n",
       "\n",
       "    .dataframe tbody tr th {\n",
       "        vertical-align: top;\n",
       "    }\n",
       "\n",
       "    .dataframe thead th {\n",
       "        text-align: right;\n",
       "    }\n",
       "</style>\n",
       "<table border=\"1\" class=\"dataframe\">\n",
       "  <thead>\n",
       "    <tr style=\"text-align: right;\">\n",
       "      <th></th>\n",
       "      <th>image</th>\n",
       "      <th>age_approx</th>\n",
       "      <th>anatom_site_general</th>\n",
       "      <th>sex</th>\n",
       "      <th>labels</th>\n",
       "      <th>cell_type</th>\n",
       "      <th>path</th>\n",
       "      <th>cell_type_idx</th>\n",
       "      <th>age_bins</th>\n",
       "    </tr>\n",
       "  </thead>\n",
       "  <tbody>\n",
       "    <tr>\n",
       "      <th>0</th>\n",
       "      <td>ISIC_0000000</td>\n",
       "      <td>55</td>\n",
       "      <td>anterior torso</td>\n",
       "      <td>female</td>\n",
       "      <td>NV</td>\n",
       "      <td>Melanocytic Nevus</td>\n",
       "      <td>C:/Users/cl502_12/Desktop/ISIC_Dataset/ISIC_20...</td>\n",
       "      <td>4</td>\n",
       "      <td>2</td>\n",
       "    </tr>\n",
       "    <tr>\n",
       "      <th>1</th>\n",
       "      <td>ISIC_0000001</td>\n",
       "      <td>30</td>\n",
       "      <td>anterior torso</td>\n",
       "      <td>female</td>\n",
       "      <td>NV</td>\n",
       "      <td>Melanocytic Nevus</td>\n",
       "      <td>C:/Users/cl502_12/Desktop/ISIC_Dataset/ISIC_20...</td>\n",
       "      <td>4</td>\n",
       "      <td>1</td>\n",
       "    </tr>\n",
       "    <tr>\n",
       "      <th>2</th>\n",
       "      <td>ISIC_0000002</td>\n",
       "      <td>60</td>\n",
       "      <td>upper extremity</td>\n",
       "      <td>female</td>\n",
       "      <td>MEL</td>\n",
       "      <td>Melanoma</td>\n",
       "      <td>C:/Users/cl502_12/Desktop/ISIC_Dataset/ISIC_20...</td>\n",
       "      <td>5</td>\n",
       "      <td>2</td>\n",
       "    </tr>\n",
       "    <tr>\n",
       "      <th>3</th>\n",
       "      <td>ISIC_0000003</td>\n",
       "      <td>30</td>\n",
       "      <td>upper extremity</td>\n",
       "      <td>male</td>\n",
       "      <td>NV</td>\n",
       "      <td>Melanocytic Nevus</td>\n",
       "      <td>C:/Users/cl502_12/Desktop/ISIC_Dataset/ISIC_20...</td>\n",
       "      <td>4</td>\n",
       "      <td>1</td>\n",
       "    </tr>\n",
       "    <tr>\n",
       "      <th>4</th>\n",
       "      <td>ISIC_0000004</td>\n",
       "      <td>80</td>\n",
       "      <td>posterior torso</td>\n",
       "      <td>male</td>\n",
       "      <td>MEL</td>\n",
       "      <td>Melanoma</td>\n",
       "      <td>C:/Users/cl502_12/Desktop/ISIC_Dataset/ISIC_20...</td>\n",
       "      <td>5</td>\n",
       "      <td>3</td>\n",
       "    </tr>\n",
       "  </tbody>\n",
       "</table>\n",
       "</div>"
      ],
      "text/plain": [
       "          image  age_approx anatom_site_general     sex labels  \\\n",
       "0  ISIC_0000000          55      anterior torso  female     NV   \n",
       "1  ISIC_0000001          30      anterior torso  female     NV   \n",
       "2  ISIC_0000002          60     upper extremity  female    MEL   \n",
       "3  ISIC_0000003          30     upper extremity    male     NV   \n",
       "4  ISIC_0000004          80     posterior torso    male    MEL   \n",
       "\n",
       "           cell_type                                               path  \\\n",
       "0  Melanocytic Nevus  C:/Users/cl502_12/Desktop/ISIC_Dataset/ISIC_20...   \n",
       "1  Melanocytic Nevus  C:/Users/cl502_12/Desktop/ISIC_Dataset/ISIC_20...   \n",
       "2           Melanoma  C:/Users/cl502_12/Desktop/ISIC_Dataset/ISIC_20...   \n",
       "3  Melanocytic Nevus  C:/Users/cl502_12/Desktop/ISIC_Dataset/ISIC_20...   \n",
       "4           Melanoma  C:/Users/cl502_12/Desktop/ISIC_Dataset/ISIC_20...   \n",
       "\n",
       "   cell_type_idx  age_bins  \n",
       "0              4         2  \n",
       "1              4         1  \n",
       "2              5         2  \n",
       "3              4         1  \n",
       "4              5         3  "
      ]
     },
     "execution_count": 9,
     "metadata": {},
     "output_type": "execute_result"
    }
   ],
   "source": [
    "df.head()"
   ]
  },
  {
   "cell_type": "code",
   "execution_count": null,
   "metadata": {},
   "outputs": [],
   "source": [
    "# df.value_counts"
   ]
  },
  {
   "cell_type": "code",
   "execution_count": 10,
   "metadata": {},
   "outputs": [
    {
     "data": {
      "text/html": [
       "<div>\n",
       "<style scoped>\n",
       "    .dataframe tbody tr th:only-of-type {\n",
       "        vertical-align: middle;\n",
       "    }\n",
       "\n",
       "    .dataframe tbody tr th {\n",
       "        vertical-align: top;\n",
       "    }\n",
       "\n",
       "    .dataframe thead th {\n",
       "        text-align: right;\n",
       "    }\n",
       "</style>\n",
       "<table border=\"1\" class=\"dataframe\">\n",
       "  <thead>\n",
       "    <tr style=\"text-align: right;\">\n",
       "      <th></th>\n",
       "      <th>age_approx</th>\n",
       "      <th>anatom_site_general</th>\n",
       "      <th>sex</th>\n",
       "      <th>labels</th>\n",
       "      <th>cell_type</th>\n",
       "      <th>path</th>\n",
       "      <th>cell_type_idx</th>\n",
       "      <th>age_bins</th>\n",
       "    </tr>\n",
       "    <tr>\n",
       "      <th>image</th>\n",
       "      <th></th>\n",
       "      <th></th>\n",
       "      <th></th>\n",
       "      <th></th>\n",
       "      <th></th>\n",
       "      <th></th>\n",
       "      <th></th>\n",
       "      <th></th>\n",
       "    </tr>\n",
       "  </thead>\n",
       "  <tbody>\n",
       "    <tr>\n",
       "      <th>ISIC_0000000</th>\n",
       "      <td>1</td>\n",
       "      <td>1</td>\n",
       "      <td>1</td>\n",
       "      <td>1</td>\n",
       "      <td>1</td>\n",
       "      <td>1</td>\n",
       "      <td>1</td>\n",
       "      <td>1</td>\n",
       "    </tr>\n",
       "    <tr>\n",
       "      <th>ISIC_0000001</th>\n",
       "      <td>1</td>\n",
       "      <td>1</td>\n",
       "      <td>1</td>\n",
       "      <td>1</td>\n",
       "      <td>1</td>\n",
       "      <td>1</td>\n",
       "      <td>1</td>\n",
       "      <td>1</td>\n",
       "    </tr>\n",
       "    <tr>\n",
       "      <th>ISIC_0000002</th>\n",
       "      <td>1</td>\n",
       "      <td>1</td>\n",
       "      <td>1</td>\n",
       "      <td>1</td>\n",
       "      <td>1</td>\n",
       "      <td>1</td>\n",
       "      <td>1</td>\n",
       "      <td>1</td>\n",
       "    </tr>\n",
       "    <tr>\n",
       "      <th>ISIC_0000003</th>\n",
       "      <td>1</td>\n",
       "      <td>1</td>\n",
       "      <td>1</td>\n",
       "      <td>1</td>\n",
       "      <td>1</td>\n",
       "      <td>1</td>\n",
       "      <td>1</td>\n",
       "      <td>1</td>\n",
       "    </tr>\n",
       "    <tr>\n",
       "      <th>ISIC_0000004</th>\n",
       "      <td>1</td>\n",
       "      <td>1</td>\n",
       "      <td>1</td>\n",
       "      <td>1</td>\n",
       "      <td>1</td>\n",
       "      <td>1</td>\n",
       "      <td>1</td>\n",
       "      <td>1</td>\n",
       "    </tr>\n",
       "  </tbody>\n",
       "</table>\n",
       "</div>"
      ],
      "text/plain": [
       "              age_approx  anatom_site_general  sex  labels  cell_type  path  \\\n",
       "image                                                                         \n",
       "ISIC_0000000           1                    1    1       1          1     1   \n",
       "ISIC_0000001           1                    1    1       1          1     1   \n",
       "ISIC_0000002           1                    1    1       1          1     1   \n",
       "ISIC_0000003           1                    1    1       1          1     1   \n",
       "ISIC_0000004           1                    1    1       1          1     1   \n",
       "\n",
       "              cell_type_idx  age_bins  \n",
       "image                                  \n",
       "ISIC_0000000              1         1  \n",
       "ISIC_0000001              1         1  \n",
       "ISIC_0000002              1         1  \n",
       "ISIC_0000003              1         1  \n",
       "ISIC_0000004              1         1  "
      ]
     },
     "execution_count": 10,
     "metadata": {},
     "output_type": "execute_result"
    }
   ],
   "source": [
    "df_ = df.groupby('image').count()\n",
    "df_.head()"
   ]
  },
  {
   "cell_type": "code",
   "execution_count": 11,
   "metadata": {},
   "outputs": [],
   "source": [
    "df_.reset_index(inplace=True)"
   ]
  },
  {
   "cell_type": "code",
   "execution_count": 12,
   "metadata": {},
   "outputs": [
    {
     "data": {
      "text/html": [
       "<div>\n",
       "<style scoped>\n",
       "    .dataframe tbody tr th:only-of-type {\n",
       "        vertical-align: middle;\n",
       "    }\n",
       "\n",
       "    .dataframe tbody tr th {\n",
       "        vertical-align: top;\n",
       "    }\n",
       "\n",
       "    .dataframe thead th {\n",
       "        text-align: right;\n",
       "    }\n",
       "</style>\n",
       "<table border=\"1\" class=\"dataframe\">\n",
       "  <thead>\n",
       "    <tr style=\"text-align: right;\">\n",
       "      <th></th>\n",
       "      <th>image</th>\n",
       "      <th>age_approx</th>\n",
       "      <th>anatom_site_general</th>\n",
       "      <th>sex</th>\n",
       "      <th>labels</th>\n",
       "      <th>cell_type</th>\n",
       "      <th>path</th>\n",
       "      <th>cell_type_idx</th>\n",
       "      <th>age_bins</th>\n",
       "    </tr>\n",
       "  </thead>\n",
       "  <tbody>\n",
       "    <tr>\n",
       "      <th>0</th>\n",
       "      <td>ISIC_0000000</td>\n",
       "      <td>1</td>\n",
       "      <td>1</td>\n",
       "      <td>1</td>\n",
       "      <td>1</td>\n",
       "      <td>1</td>\n",
       "      <td>1</td>\n",
       "      <td>1</td>\n",
       "      <td>1</td>\n",
       "    </tr>\n",
       "    <tr>\n",
       "      <th>1</th>\n",
       "      <td>ISIC_0000001</td>\n",
       "      <td>1</td>\n",
       "      <td>1</td>\n",
       "      <td>1</td>\n",
       "      <td>1</td>\n",
       "      <td>1</td>\n",
       "      <td>1</td>\n",
       "      <td>1</td>\n",
       "      <td>1</td>\n",
       "    </tr>\n",
       "    <tr>\n",
       "      <th>2</th>\n",
       "      <td>ISIC_0000002</td>\n",
       "      <td>1</td>\n",
       "      <td>1</td>\n",
       "      <td>1</td>\n",
       "      <td>1</td>\n",
       "      <td>1</td>\n",
       "      <td>1</td>\n",
       "      <td>1</td>\n",
       "      <td>1</td>\n",
       "    </tr>\n",
       "    <tr>\n",
       "      <th>3</th>\n",
       "      <td>ISIC_0000003</td>\n",
       "      <td>1</td>\n",
       "      <td>1</td>\n",
       "      <td>1</td>\n",
       "      <td>1</td>\n",
       "      <td>1</td>\n",
       "      <td>1</td>\n",
       "      <td>1</td>\n",
       "      <td>1</td>\n",
       "    </tr>\n",
       "    <tr>\n",
       "      <th>4</th>\n",
       "      <td>ISIC_0000004</td>\n",
       "      <td>1</td>\n",
       "      <td>1</td>\n",
       "      <td>1</td>\n",
       "      <td>1</td>\n",
       "      <td>1</td>\n",
       "      <td>1</td>\n",
       "      <td>1</td>\n",
       "      <td>1</td>\n",
       "    </tr>\n",
       "  </tbody>\n",
       "</table>\n",
       "</div>"
      ],
      "text/plain": [
       "          image  age_approx  anatom_site_general  sex  labels  cell_type  \\\n",
       "0  ISIC_0000000           1                    1    1       1          1   \n",
       "1  ISIC_0000001           1                    1    1       1          1   \n",
       "2  ISIC_0000002           1                    1    1       1          1   \n",
       "3  ISIC_0000003           1                    1    1       1          1   \n",
       "4  ISIC_0000004           1                    1    1       1          1   \n",
       "\n",
       "   path  cell_type_idx  age_bins  \n",
       "0     1              1         1  \n",
       "1     1              1         1  \n",
       "2     1              1         1  \n",
       "3     1              1         1  \n",
       "4     1              1         1  "
      ]
     },
     "execution_count": 12,
     "metadata": {},
     "output_type": "execute_result"
    }
   ],
   "source": [
    "df_.head()"
   ]
  },
  {
   "cell_type": "code",
   "execution_count": 13,
   "metadata": {},
   "outputs": [
    {
     "data": {
      "text/plain": [
       "image         age_approx  anatom_site_general  sex  labels  cell_type  path  cell_type_idx  age_bins\n",
       "ISIC_0000000  1           1                    1    1       1          1     1              1           1\n",
       "ISIC_0060937  1           1                    1    1       1          1     1              1           1\n",
       "ISIC_0060935  1           1                    1    1       1          1     1              1           1\n",
       "ISIC_0060934  1           1                    1    1       1          1     1              1           1\n",
       "ISIC_0060933  1           1                    1    1       1          1     1              1           1\n",
       "                                                                                                       ..\n",
       "ISIC_0031228  1           1                    1    1       1          1     1              1           1\n",
       "ISIC_0031227  1           1                    1    1       1          1     1              1           1\n",
       "ISIC_0031226  1           1                    1    1       1          1     1              1           1\n",
       "ISIC_0031225  1           1                    1    1       1          1     1              1           1\n",
       "ISIC_0073254  1           1                    1    1       1          1     1              1           1\n",
       "Name: count, Length: 23257, dtype: int64"
      ]
     },
     "execution_count": 13,
     "metadata": {},
     "output_type": "execute_result"
    }
   ],
   "source": [
    "df_.value_counts()"
   ]
  },
  {
   "cell_type": "code",
   "execution_count": 14,
   "metadata": {},
   "outputs": [
    {
     "data": {
      "text/html": [
       "<div>\n",
       "<style scoped>\n",
       "    .dataframe tbody tr th:only-of-type {\n",
       "        vertical-align: middle;\n",
       "    }\n",
       "\n",
       "    .dataframe tbody tr th {\n",
       "        vertical-align: top;\n",
       "    }\n",
       "\n",
       "    .dataframe thead th {\n",
       "        text-align: right;\n",
       "    }\n",
       "</style>\n",
       "<table border=\"1\" class=\"dataframe\">\n",
       "  <thead>\n",
       "    <tr style=\"text-align: right;\">\n",
       "      <th></th>\n",
       "      <th>image</th>\n",
       "      <th>age_approx</th>\n",
       "      <th>anatom_site_general</th>\n",
       "      <th>sex</th>\n",
       "      <th>labels</th>\n",
       "      <th>cell_type</th>\n",
       "      <th>path</th>\n",
       "      <th>cell_type_idx</th>\n",
       "      <th>age_bins</th>\n",
       "      <th>duplicates</th>\n",
       "    </tr>\n",
       "  </thead>\n",
       "  <tbody>\n",
       "    <tr>\n",
       "      <th>0</th>\n",
       "      <td>ISIC_0000000</td>\n",
       "      <td>55</td>\n",
       "      <td>anterior torso</td>\n",
       "      <td>female</td>\n",
       "      <td>NV</td>\n",
       "      <td>Melanocytic Nevus</td>\n",
       "      <td>C:/Users/cl502_12/Desktop/ISIC_Dataset/ISIC_20...</td>\n",
       "      <td>4</td>\n",
       "      <td>2</td>\n",
       "      <td>no_duplicates</td>\n",
       "    </tr>\n",
       "    <tr>\n",
       "      <th>1</th>\n",
       "      <td>ISIC_0000001</td>\n",
       "      <td>30</td>\n",
       "      <td>anterior torso</td>\n",
       "      <td>female</td>\n",
       "      <td>NV</td>\n",
       "      <td>Melanocytic Nevus</td>\n",
       "      <td>C:/Users/cl502_12/Desktop/ISIC_Dataset/ISIC_20...</td>\n",
       "      <td>4</td>\n",
       "      <td>1</td>\n",
       "      <td>no_duplicates</td>\n",
       "    </tr>\n",
       "    <tr>\n",
       "      <th>2</th>\n",
       "      <td>ISIC_0000002</td>\n",
       "      <td>60</td>\n",
       "      <td>upper extremity</td>\n",
       "      <td>female</td>\n",
       "      <td>MEL</td>\n",
       "      <td>Melanoma</td>\n",
       "      <td>C:/Users/cl502_12/Desktop/ISIC_Dataset/ISIC_20...</td>\n",
       "      <td>5</td>\n",
       "      <td>2</td>\n",
       "      <td>no_duplicates</td>\n",
       "    </tr>\n",
       "    <tr>\n",
       "      <th>3</th>\n",
       "      <td>ISIC_0000003</td>\n",
       "      <td>30</td>\n",
       "      <td>upper extremity</td>\n",
       "      <td>male</td>\n",
       "      <td>NV</td>\n",
       "      <td>Melanocytic Nevus</td>\n",
       "      <td>C:/Users/cl502_12/Desktop/ISIC_Dataset/ISIC_20...</td>\n",
       "      <td>4</td>\n",
       "      <td>1</td>\n",
       "      <td>no_duplicates</td>\n",
       "    </tr>\n",
       "    <tr>\n",
       "      <th>4</th>\n",
       "      <td>ISIC_0000004</td>\n",
       "      <td>80</td>\n",
       "      <td>posterior torso</td>\n",
       "      <td>male</td>\n",
       "      <td>MEL</td>\n",
       "      <td>Melanoma</td>\n",
       "      <td>C:/Users/cl502_12/Desktop/ISIC_Dataset/ISIC_20...</td>\n",
       "      <td>5</td>\n",
       "      <td>3</td>\n",
       "      <td>no_duplicates</td>\n",
       "    </tr>\n",
       "  </tbody>\n",
       "</table>\n",
       "</div>"
      ],
      "text/plain": [
       "          image  age_approx anatom_site_general     sex labels  \\\n",
       "0  ISIC_0000000          55      anterior torso  female     NV   \n",
       "1  ISIC_0000001          30      anterior torso  female     NV   \n",
       "2  ISIC_0000002          60     upper extremity  female    MEL   \n",
       "3  ISIC_0000003          30     upper extremity    male     NV   \n",
       "4  ISIC_0000004          80     posterior torso    male    MEL   \n",
       "\n",
       "           cell_type                                               path  \\\n",
       "0  Melanocytic Nevus  C:/Users/cl502_12/Desktop/ISIC_Dataset/ISIC_20...   \n",
       "1  Melanocytic Nevus  C:/Users/cl502_12/Desktop/ISIC_Dataset/ISIC_20...   \n",
       "2           Melanoma  C:/Users/cl502_12/Desktop/ISIC_Dataset/ISIC_20...   \n",
       "3  Melanocytic Nevus  C:/Users/cl502_12/Desktop/ISIC_Dataset/ISIC_20...   \n",
       "4           Melanoma  C:/Users/cl502_12/Desktop/ISIC_Dataset/ISIC_20...   \n",
       "\n",
       "   cell_type_idx  age_bins     duplicates  \n",
       "0              4         2  no_duplicates  \n",
       "1              4         1  no_duplicates  \n",
       "2              5         2  no_duplicates  \n",
       "3              4         1  no_duplicates  \n",
       "4              5         3  no_duplicates  "
      ]
     },
     "execution_count": 14,
     "metadata": {},
     "output_type": "execute_result"
    }
   ],
   "source": [
    "# here we identify lesion_id's that have duplicate images and those that have only\n",
    "# one image.\n",
    "\n",
    "def identify_duplicates(x):\n",
    "    \n",
    "    unique_list = list(df_['image'])\n",
    "    \n",
    "    if x in unique_list:\n",
    "        return 'no_duplicates'\n",
    "    else:\n",
    "        return 'has_duplicates'\n",
    "    \n",
    "# create a new colum that is a copy of the lesion_id column\n",
    "df['duplicates'] = df['image']\n",
    "# apply the function to this new column\n",
    "df['duplicates'] = df['duplicates'].apply(identify_duplicates)\n",
    "\n",
    "df.head()"
   ]
  },
  {
   "cell_type": "code",
   "execution_count": 15,
   "metadata": {},
   "outputs": [
    {
     "data": {
      "text/plain": [
       "duplicates\n",
       "no_duplicates    23257\n",
       "Name: count, dtype: int64"
      ]
     },
     "execution_count": 15,
     "metadata": {},
     "output_type": "execute_result"
    }
   ],
   "source": [
    "df['duplicates'].value_counts()"
   ]
  },
  {
   "cell_type": "code",
   "execution_count": 16,
   "metadata": {},
   "outputs": [
    {
     "data": {
      "text/plain": [
       "(23257, 10)"
      ]
     },
     "execution_count": 16,
     "metadata": {},
     "output_type": "execute_result"
    }
   ],
   "source": [
    "# now we filter out images that don't have duplicates\n",
    "df_ = df[df['duplicates'] == 'no_duplicates']\n",
    "\n",
    "df_.shape"
   ]
  },
  {
   "cell_type": "code",
   "execution_count": 17,
   "metadata": {},
   "outputs": [
    {
     "data": {
      "text/plain": [
       "Index(['image', 'age_approx', 'anatom_site_general', 'sex', 'labels',\n",
       "       'cell_type', 'path', 'cell_type_idx', 'age_bins', 'duplicates'],\n",
       "      dtype='object')"
      ]
     },
     "execution_count": 17,
     "metadata": {},
     "output_type": "execute_result"
    }
   ],
   "source": [
    "df.head()\n",
    "df.columns"
   ]
  },
  {
   "cell_type": "code",
   "execution_count": 18,
   "metadata": {},
   "outputs": [
    {
     "data": {
      "text/html": [
       "<div>\n",
       "<style scoped>\n",
       "    .dataframe tbody tr th:only-of-type {\n",
       "        vertical-align: middle;\n",
       "    }\n",
       "\n",
       "    .dataframe tbody tr th {\n",
       "        vertical-align: top;\n",
       "    }\n",
       "\n",
       "    .dataframe thead th {\n",
       "        text-align: right;\n",
       "    }\n",
       "</style>\n",
       "<table border=\"1\" class=\"dataframe\">\n",
       "  <thead>\n",
       "    <tr style=\"text-align: right;\">\n",
       "      <th></th>\n",
       "      <th>image</th>\n",
       "      <th>age_approx</th>\n",
       "      <th>anatom_site_general</th>\n",
       "      <th>sex</th>\n",
       "      <th>labels</th>\n",
       "      <th>cell_type</th>\n",
       "      <th>path</th>\n",
       "      <th>cell_type_idx</th>\n",
       "      <th>age_bins</th>\n",
       "      <th>duplicates</th>\n",
       "    </tr>\n",
       "  </thead>\n",
       "  <tbody>\n",
       "    <tr>\n",
       "      <th>0</th>\n",
       "      <td>ISIC_0000000</td>\n",
       "      <td>55</td>\n",
       "      <td>anterior torso</td>\n",
       "      <td>female</td>\n",
       "      <td>NV</td>\n",
       "      <td>Melanocytic Nevus</td>\n",
       "      <td>C:/Users/cl502_12/Desktop/ISIC_Dataset/ISIC_20...</td>\n",
       "      <td>4</td>\n",
       "      <td>2</td>\n",
       "      <td>no_duplicates</td>\n",
       "    </tr>\n",
       "    <tr>\n",
       "      <th>1</th>\n",
       "      <td>ISIC_0000001</td>\n",
       "      <td>30</td>\n",
       "      <td>anterior torso</td>\n",
       "      <td>female</td>\n",
       "      <td>NV</td>\n",
       "      <td>Melanocytic Nevus</td>\n",
       "      <td>C:/Users/cl502_12/Desktop/ISIC_Dataset/ISIC_20...</td>\n",
       "      <td>4</td>\n",
       "      <td>1</td>\n",
       "      <td>no_duplicates</td>\n",
       "    </tr>\n",
       "    <tr>\n",
       "      <th>2</th>\n",
       "      <td>ISIC_0000002</td>\n",
       "      <td>60</td>\n",
       "      <td>upper extremity</td>\n",
       "      <td>female</td>\n",
       "      <td>MEL</td>\n",
       "      <td>Melanoma</td>\n",
       "      <td>C:/Users/cl502_12/Desktop/ISIC_Dataset/ISIC_20...</td>\n",
       "      <td>5</td>\n",
       "      <td>2</td>\n",
       "      <td>no_duplicates</td>\n",
       "    </tr>\n",
       "    <tr>\n",
       "      <th>3</th>\n",
       "      <td>ISIC_0000003</td>\n",
       "      <td>30</td>\n",
       "      <td>upper extremity</td>\n",
       "      <td>male</td>\n",
       "      <td>NV</td>\n",
       "      <td>Melanocytic Nevus</td>\n",
       "      <td>C:/Users/cl502_12/Desktop/ISIC_Dataset/ISIC_20...</td>\n",
       "      <td>4</td>\n",
       "      <td>1</td>\n",
       "      <td>no_duplicates</td>\n",
       "    </tr>\n",
       "    <tr>\n",
       "      <th>4</th>\n",
       "      <td>ISIC_0000004</td>\n",
       "      <td>80</td>\n",
       "      <td>posterior torso</td>\n",
       "      <td>male</td>\n",
       "      <td>MEL</td>\n",
       "      <td>Melanoma</td>\n",
       "      <td>C:/Users/cl502_12/Desktop/ISIC_Dataset/ISIC_20...</td>\n",
       "      <td>5</td>\n",
       "      <td>3</td>\n",
       "      <td>no_duplicates</td>\n",
       "    </tr>\n",
       "  </tbody>\n",
       "</table>\n",
       "</div>"
      ],
      "text/plain": [
       "          image  age_approx anatom_site_general     sex labels  \\\n",
       "0  ISIC_0000000          55      anterior torso  female     NV   \n",
       "1  ISIC_0000001          30      anterior torso  female     NV   \n",
       "2  ISIC_0000002          60     upper extremity  female    MEL   \n",
       "3  ISIC_0000003          30     upper extremity    male     NV   \n",
       "4  ISIC_0000004          80     posterior torso    male    MEL   \n",
       "\n",
       "           cell_type                                               path  \\\n",
       "0  Melanocytic Nevus  C:/Users/cl502_12/Desktop/ISIC_Dataset/ISIC_20...   \n",
       "1  Melanocytic Nevus  C:/Users/cl502_12/Desktop/ISIC_Dataset/ISIC_20...   \n",
       "2           Melanoma  C:/Users/cl502_12/Desktop/ISIC_Dataset/ISIC_20...   \n",
       "3  Melanocytic Nevus  C:/Users/cl502_12/Desktop/ISIC_Dataset/ISIC_20...   \n",
       "4           Melanoma  C:/Users/cl502_12/Desktop/ISIC_Dataset/ISIC_20...   \n",
       "\n",
       "   cell_type_idx  age_bins     duplicates  \n",
       "0              4         2  no_duplicates  \n",
       "1              4         1  no_duplicates  \n",
       "2              5         2  no_duplicates  \n",
       "3              4         1  no_duplicates  \n",
       "4              5         3  no_duplicates  "
      ]
     },
     "execution_count": 18,
     "metadata": {},
     "output_type": "execute_result"
    }
   ],
   "source": [
    "df_.head()"
   ]
  },
  {
   "cell_type": "code",
   "execution_count": 19,
   "metadata": {},
   "outputs": [
    {
     "data": {
      "text/plain": [
       "labels\n",
       "NV      11559\n",
       "MEL      4148\n",
       "BCC      3323\n",
       "BKL      2240\n",
       "AK        867\n",
       "SCC       628\n",
       "VASC      253\n",
       "DF        239\n",
       "Name: count, dtype: int64"
      ]
     },
     "execution_count": 19,
     "metadata": {},
     "output_type": "execute_result"
    }
   ],
   "source": [
    "y = df_['labels']\n",
    "y.value_counts()\n"
   ]
  },
  {
   "cell_type": "code",
   "execution_count": 20,
   "metadata": {},
   "outputs": [
    {
     "data": {
      "text/plain": [
       "(4652, 10)"
      ]
     },
     "execution_count": 20,
     "metadata": {},
     "output_type": "execute_result"
    }
   ],
   "source": [
    "_, df_val = train_test_split(df_, test_size=0.2, random_state=101, stratify=y)\n",
    "\n",
    "df_val.shape"
   ]
  },
  {
   "cell_type": "code",
   "execution_count": 21,
   "metadata": {},
   "outputs": [
    {
     "data": {
      "text/html": [
       "<div>\n",
       "<style scoped>\n",
       "    .dataframe tbody tr th:only-of-type {\n",
       "        vertical-align: middle;\n",
       "    }\n",
       "\n",
       "    .dataframe tbody tr th {\n",
       "        vertical-align: top;\n",
       "    }\n",
       "\n",
       "    .dataframe thead th {\n",
       "        text-align: right;\n",
       "    }\n",
       "</style>\n",
       "<table border=\"1\" class=\"dataframe\">\n",
       "  <thead>\n",
       "    <tr style=\"text-align: right;\">\n",
       "      <th></th>\n",
       "      <th>image</th>\n",
       "      <th>age_approx</th>\n",
       "      <th>anatom_site_general</th>\n",
       "      <th>sex</th>\n",
       "      <th>labels</th>\n",
       "      <th>cell_type</th>\n",
       "      <th>path</th>\n",
       "      <th>cell_type_idx</th>\n",
       "      <th>age_bins</th>\n",
       "      <th>duplicates</th>\n",
       "    </tr>\n",
       "  </thead>\n",
       "  <tbody>\n",
       "    <tr>\n",
       "      <th>12135</th>\n",
       "      <td>ISIC_0033538</td>\n",
       "      <td>70</td>\n",
       "      <td>lower extremity</td>\n",
       "      <td>male</td>\n",
       "      <td>MEL</td>\n",
       "      <td>Melanoma</td>\n",
       "      <td>C:/Users/cl502_12/Desktop/ISIC_Dataset/ISIC_20...</td>\n",
       "      <td>5</td>\n",
       "      <td>3</td>\n",
       "      <td>no_duplicates</td>\n",
       "    </tr>\n",
       "    <tr>\n",
       "      <th>7886</th>\n",
       "      <td>ISIC_0029289</td>\n",
       "      <td>60</td>\n",
       "      <td>unknown</td>\n",
       "      <td>female</td>\n",
       "      <td>BKL</td>\n",
       "      <td>Benign Keratosis</td>\n",
       "      <td>C:/Users/cl502_12/Desktop/ISIC_Dataset/ISIC_20...</td>\n",
       "      <td>2</td>\n",
       "      <td>2</td>\n",
       "      <td>no_duplicates</td>\n",
       "    </tr>\n",
       "    <tr>\n",
       "      <th>3544</th>\n",
       "      <td>ISIC_0024947</td>\n",
       "      <td>40</td>\n",
       "      <td>head/neck</td>\n",
       "      <td>male</td>\n",
       "      <td>BKL</td>\n",
       "      <td>Benign Keratosis</td>\n",
       "      <td>C:/Users/cl502_12/Desktop/ISIC_Dataset/ISIC_20...</td>\n",
       "      <td>2</td>\n",
       "      <td>1</td>\n",
       "      <td>no_duplicates</td>\n",
       "    </tr>\n",
       "    <tr>\n",
       "      <th>3401</th>\n",
       "      <td>ISIC_0024804</td>\n",
       "      <td>55</td>\n",
       "      <td>anterior torso</td>\n",
       "      <td>male</td>\n",
       "      <td>NV</td>\n",
       "      <td>Melanocytic Nevus</td>\n",
       "      <td>C:/Users/cl502_12/Desktop/ISIC_Dataset/ISIC_20...</td>\n",
       "      <td>4</td>\n",
       "      <td>2</td>\n",
       "      <td>no_duplicates</td>\n",
       "    </tr>\n",
       "    <tr>\n",
       "      <th>23859</th>\n",
       "      <td>ISIC_0070927</td>\n",
       "      <td>85</td>\n",
       "      <td>lower extremity</td>\n",
       "      <td>female</td>\n",
       "      <td>MEL</td>\n",
       "      <td>Melanoma</td>\n",
       "      <td>C:/Users/cl502_12/Desktop/ISIC_Dataset/ISIC_20...</td>\n",
       "      <td>5</td>\n",
       "      <td>4</td>\n",
       "      <td>no_duplicates</td>\n",
       "    </tr>\n",
       "  </tbody>\n",
       "</table>\n",
       "</div>"
      ],
      "text/plain": [
       "              image  age_approx anatom_site_general     sex labels  \\\n",
       "12135  ISIC_0033538          70     lower extremity    male    MEL   \n",
       "7886   ISIC_0029289          60             unknown  female    BKL   \n",
       "3544   ISIC_0024947          40           head/neck    male    BKL   \n",
       "3401   ISIC_0024804          55      anterior torso    male     NV   \n",
       "23859  ISIC_0070927          85     lower extremity  female    MEL   \n",
       "\n",
       "               cell_type                                               path  \\\n",
       "12135           Melanoma  C:/Users/cl502_12/Desktop/ISIC_Dataset/ISIC_20...   \n",
       "7886    Benign Keratosis  C:/Users/cl502_12/Desktop/ISIC_Dataset/ISIC_20...   \n",
       "3544    Benign Keratosis  C:/Users/cl502_12/Desktop/ISIC_Dataset/ISIC_20...   \n",
       "3401   Melanocytic Nevus  C:/Users/cl502_12/Desktop/ISIC_Dataset/ISIC_20...   \n",
       "23859           Melanoma  C:/Users/cl502_12/Desktop/ISIC_Dataset/ISIC_20...   \n",
       "\n",
       "       cell_type_idx  age_bins     duplicates  \n",
       "12135              5         3  no_duplicates  \n",
       "7886               2         2  no_duplicates  \n",
       "3544               2         1  no_duplicates  \n",
       "3401               4         2  no_duplicates  \n",
       "23859              5         4  no_duplicates  "
      ]
     },
     "execution_count": 21,
     "metadata": {},
     "output_type": "execute_result"
    }
   ],
   "source": [
    "df_val.head()"
   ]
  },
  {
   "cell_type": "code",
   "execution_count": 22,
   "metadata": {},
   "outputs": [
    {
     "data": {
      "text/plain": [
       "labels\n",
       "NV      2312\n",
       "MEL      830\n",
       "BCC      665\n",
       "BKL      448\n",
       "AK       173\n",
       "SCC      126\n",
       "VASC      50\n",
       "DF        48\n",
       "Name: count, dtype: int64"
      ]
     },
     "execution_count": 22,
     "metadata": {},
     "output_type": "execute_result"
    }
   ],
   "source": [
    "df_val['labels'].value_counts()"
   ]
  },
  {
   "cell_type": "code",
   "execution_count": 23,
   "metadata": {},
   "outputs": [
    {
     "name": "stdout",
     "output_type": "stream",
     "text": [
      "18605\n",
      "4652\n"
     ]
    }
   ],
   "source": [
    "# This set will be df_data excluding all rows that are in the val set\n",
    "\n",
    "# This function identifies if an image is part of the train\n",
    "# or val set.\n",
    "def identify_val_rows(x):\n",
    "    # create a list of all the lesion_id's in the val set\n",
    "    val_list = list(df_val['image'])\n",
    "    \n",
    "    if str(x) in val_list:\n",
    "        return 'val'\n",
    "    else:\n",
    "        return 'train'\n",
    "\n",
    "# identify train and val rows\n",
    "\n",
    "# create a new colum that is a copy of the image_id column\n",
    "df['train_or_val'] = df['image']\n",
    "# apply the function to this new column\n",
    "df['train_or_val'] = df['train_or_val'].apply(identify_val_rows)\n",
    "   \n",
    "# filter out train rows\n",
    "df_train = df[df['train_or_val'] == 'train']\n",
    "\n",
    "\n",
    "print(len(df_train))\n",
    "print(len(df_val))"
   ]
  },
  {
   "cell_type": "code",
   "execution_count": 24,
   "metadata": {},
   "outputs": [
    {
     "data": {
      "text/plain": [
       "labels\n",
       "NV      9247\n",
       "MEL     3318\n",
       "BCC     2658\n",
       "BKL     1792\n",
       "AK       694\n",
       "SCC      502\n",
       "VASC     203\n",
       "DF       191\n",
       "Name: count, dtype: int64"
      ]
     },
     "execution_count": 24,
     "metadata": {},
     "output_type": "execute_result"
    }
   ],
   "source": [
    "df_train['labels'].value_counts()"
   ]
  },
  {
   "cell_type": "code",
   "execution_count": 25,
   "metadata": {},
   "outputs": [
    {
     "data": {
      "text/plain": [
       "labels\n",
       "NV      2312\n",
       "MEL      830\n",
       "BCC      665\n",
       "BKL      448\n",
       "AK       173\n",
       "SCC      126\n",
       "VASC      50\n",
       "DF        48\n",
       "Name: count, dtype: int64"
      ]
     },
     "execution_count": 25,
     "metadata": {},
     "output_type": "execute_result"
    }
   ],
   "source": [
    "df_val['labels'].value_counts()"
   ]
  },
  {
   "cell_type": "code",
   "execution_count": 26,
   "metadata": {},
   "outputs": [],
   "source": [
    "base_dir = 'C:/Users/cl502_12/Desktop/CUSTOM_DATASET_ISIC_2019/'\n",
    "train_dir = 'C:/Users/cl502_12/Desktop/CUSTOM_DATASET_ISIC_2019/train/' \n",
    "val_dir = 'C:/Users/cl502_12/Desktop/CUSTOM_DATASET_ISIC_2019/val/'"
   ]
  },
  {
   "cell_type": "code",
   "execution_count": null,
   "metadata": {},
   "outputs": [],
   "source": [
    "# # Copy the train images into aug_dir\n",
    "# class_list = [\"MEL\",\n",
    "#     \"NV\",\n",
    "#     \"BCC\",\n",
    "#     \"AK\",\n",
    "#     \"BKL\",\n",
    "#     \"DF\",\n",
    "#     \"VASC\",\n",
    "#     \"SCC\"]\n",
    "\n",
    "#  # We are creating temporary directories here because we delete these directories later\n",
    "#     # create a base dir\n",
    "\n",
    "\n",
    "# for item in class_list:\n",
    "    \n",
    "#     aug_dir = 'C:/Users/cl502_12/Desktop/CUSTOM_DATASET_ISIC_2019/aug_dir'\n",
    "#     os.mkdir(aug_dir)\n",
    "#     # create a dir within the base dir to store images of the same class\n",
    "#     img_dir = os.path.join(aug_dir, 'img_dir')\n",
    "#     os.mkdir(img_dir)\n",
    "\n",
    "#     # Choose a class\n",
    "#     img_class = item\n",
    "\n",
    "#     # list all images in that directory\n",
    "#     img_list = os.listdir('C:/Users/cl502_12/Desktop/CUSTOM_DATASET_ISIC_2019/train/' + img_class)\n",
    "\n",
    "#     # Copy images from the class train dir to the img_dir e.g. class 'mel'\n",
    "#     for fname in img_list:\n",
    "#             # source path to image\n",
    "#             src = os.path.join('C:/Users/cl502_12/Desktop/CUSTOM_DATASET_ISIC_2019/train/' + img_class, fname)\n",
    "#             # destination path to image\n",
    "#             dst = os.path.join(img_dir, fname)\n",
    "#             # copy the image from the source to the destination\n",
    "#             shutil.copyfile(src, dst)\n",
    "\n",
    "\n",
    "#     # point to a dir containing the images and not to the images themselves\n",
    "#     path = aug_dir\n",
    "#     save_path = 'C:/Users/cl502_12/Desktop/CUSTOM_DATASET_ISIC_2019/train/' + img_class\n",
    "\n",
    "#     # Create a data generator\n",
    "#     datagen = ImageDataGenerator(\n",
    "#         rotation_range=180,\n",
    "#         width_shift_range=0.1,\n",
    "#         height_shift_range=0.1,\n",
    "#         zoom_range=0.1,\n",
    "#         horizontal_flip=True,\n",
    "#         vertical_flip=True,\n",
    "#         brightness_range=(0.9,1.1),\n",
    "#         fill_mode='nearest')\n",
    "\n",
    "#     batch_size = 50\n",
    "\n",
    "#     aug_datagen = datagen.flow_from_directory(path,\n",
    "#                                            save_to_dir=save_path,\n",
    "#                                            save_format='jpg',\n",
    "#                                                     target_size=(224,224),\n",
    "#                                                     batch_size=batch_size)\n",
    "\n",
    "\n",
    "\n",
    "#     # Generate the augmented images and add them to the training folders\n",
    "    \n",
    "#     ###########\n",
    "    \n",
    "#     num_aug_images_wanted = 6000 # total number of images we want to have in each class\n",
    "    \n",
    "#     ###########\n",
    "    \n",
    "#     num_files = len(os.listdir(img_dir))\n",
    "#     num_batches = int(np.ceil((num_aug_images_wanted-num_files)/batch_size))\n",
    "\n",
    "#     # run the generator and create about 6000 augmented images\n",
    "#     for i in range(0,num_batches):\n",
    "\n",
    "#         imgs, labels = next(aug_datagen)\n",
    "        \n",
    "#     # delete temporary directory with the raw image files\n",
    "#     shutil.rmtree('C:/Users/cl502_12/Desktop/CUSTOM_DATASET_ISIC_2019/aug_dir')"
   ]
  },
  {
   "cell_type": "code",
   "execution_count": null,
   "metadata": {},
   "outputs": [],
   "source": [
    "# def plots(ims, figsize=(12,6), rows=5, interp=False, titles=None): # 12,6\n",
    "#     if type(ims[0]) is np.ndarray:\n",
    "#         ims = np.array(ims).astype(np.uint8)\n",
    "#         if (ims.shape[-1] != 3):\n",
    "#             ims = ims.transpose((0,2,3,1))\n",
    "#     f = plt.figure(figsize=figsize)\n",
    "#     cols = len(ims)//rows if len(ims) % 2 == 0 else len(ims)//rows + 1\n",
    "#     for i in range(len(ims)):\n",
    "#         sp = f.add_subplot(rows, cols, i+1)\n",
    "#         sp.axis('Off')\n",
    "#         if titles is not None:\n",
    "#             sp.set_title(titles[i], fontsize=16)\n",
    "#         plt.imshow(ims[i], interpolation=None if interp else 'none')\n",
    "        \n",
    "# plots(imgs, titles=None) # titles=labels will display the image labels"
   ]
  },
  {
   "cell_type": "code",
   "execution_count": 27,
   "metadata": {},
   "outputs": [],
   "source": [
    "base_dir = 'C:/Users/cl502_12/Desktop/CUSTOM_DATASET_ISIC_2019/'\n",
    "train_dir = 'C:/Users/cl502_12/Desktop/CUSTOM_DATASET_ISIC_2019/train/' \n",
    "val_dir = 'C:/Users/cl502_12/Desktop/CUSTOM_DATASET_ISIC_2019/val/'\n",
    "\n",
    "num_train_samples = len(df_train)\n",
    "num_val_samples = len(df_val)\n",
    "train_batch_size = 32\n",
    "val_batch_size = 32\n",
    "image_size = 224\n",
    "\n",
    "train_steps = np.ceil(num_train_samples / train_batch_size)\n",
    "val_steps = np.ceil(num_val_samples / val_batch_size)"
   ]
  },
  {
   "cell_type": "code",
   "execution_count": 28,
   "metadata": {},
   "outputs": [
    {
     "name": "stdout",
     "output_type": "stream",
     "text": [
      "18605\n",
      "4652\n"
     ]
    }
   ],
   "source": [
    "print(num_train_samples) \n",
    "print(num_val_samples) \n"
   ]
  },
  {
   "cell_type": "code",
   "execution_count": 29,
   "metadata": {},
   "outputs": [
    {
     "name": "stdout",
     "output_type": "stream",
     "text": [
      "Found 54372 images belonging to 8 classes.\n",
      "Found 9174 images belonging to 8 classes.\n",
      "Found 9174 images belonging to 8 classes.\n"
     ]
    }
   ],
   "source": [
    "datagen = ImageDataGenerator(\n",
    "    preprocessing_function= \\\n",
    "    tf.keras.applications.resnet_v2.preprocess_input)\n",
    "\n",
    "train_batches = datagen.flow_from_directory(train_dir,\n",
    "                                            target_size=(image_size,image_size),\n",
    "                                            batch_size=train_batch_size)\n",
    "\n",
    "valid_batches = datagen.flow_from_directory(val_dir,\n",
    "                                            target_size=(image_size,image_size),\n",
    "                                            batch_size=val_batch_size)\n",
    "\n",
    "# Note: shuffle=False causes the test dataset to not be shuffled\n",
    "test_batches = datagen.flow_from_directory(val_dir,\n",
    "                                            target_size=(image_size,image_size),\n",
    "                                            batch_size=1,\n",
    "                                            shuffle=False)"
   ]
  },
  {
   "cell_type": "code",
   "execution_count": 30,
   "metadata": {},
   "outputs": [
    {
     "name": "stderr",
     "output_type": "stream",
     "text": [
      "c:\\Users\\cl502_12\\Desktop\\FINAL_YEAR_PROJEC\\.venv\\lib\\site-packages\\tensorflow_addons\\utils\\tfa_eol_msg.py:23: UserWarning: \n",
      "\n",
      "TensorFlow Addons (TFA) has ended development and introduction of new features.\n",
      "TFA has entered a minimal maintenance and release mode until a planned end of life in May 2024.\n",
      "Please modify downstream libraries to take dependencies from other repositories in our TensorFlow community (e.g. Keras, Keras-CV, and Keras-NLP). \n",
      "\n",
      "For more information see: https://github.com/tensorflow/addons/issues/2807 \n",
      "\n",
      "  warnings.warn(\n",
      "c:\\Users\\cl502_12\\Desktop\\FINAL_YEAR_PROJEC\\.venv\\lib\\site-packages\\tensorflow_addons\\utils\\ensure_tf_install.py:53: UserWarning: Tensorflow Addons supports using Python ops for all Tensorflow versions above or equal to 2.12.0 and strictly below 2.15.0 (nightly versions are not supported). \n",
      " The versions of TensorFlow you are currently using is 2.10.0 and is not supported. \n",
      "Some things might work, some things might not.\n",
      "If you were to encounter a bug, do not file an issue.\n",
      "If you want to make sure you're using a tested and supported configuration, either change the TensorFlow version or the TensorFlow Addons's version. \n",
      "You can find the compatibility matrix in TensorFlow Addon's readme:\n",
      "https://github.com/tensorflow/addons\n",
      "  warnings.warn(\n"
     ]
    }
   ],
   "source": [
    "from vit_keras import vit\n",
    "import tensorflow as tf\n",
    "import tensorflow_addons as tfa\n",
    "from tensorflow.keras.callbacks import EarlyStopping\n",
    "from keras.callbacks import ModelCheckpoint\n",
    "import math"
   ]
  },
  {
   "cell_type": "code",
   "execution_count": 33,
   "metadata": {},
   "outputs": [],
   "source": [
    "vit_model = vit.vit_b16(\n",
    "        image_size = 224,\n",
    "        activation = 'softmax',\n",
    "        pretrained = True,\n",
    "        include_top = False,\n",
    "        pretrained_top = False,\n",
    "        classes = 8)"
   ]
  },
  {
   "cell_type": "code",
   "execution_count": 34,
   "metadata": {},
   "outputs": [
    {
     "name": "stdout",
     "output_type": "stream",
     "text": [
      "Model: \"vision_transformer\"\n",
      "_________________________________________________________________\n",
      " Layer (type)                Output Shape              Param #   \n",
      "=================================================================\n",
      " vit-b16 (Functional)        (None, 768)               85798656  \n",
      "                                                                 \n",
      " flatten (Flatten)           (None, 768)               0         \n",
      "                                                                 \n",
      " batch_normalization (BatchN  (None, 768)              3072      \n",
      " ormalization)                                                   \n",
      "                                                                 \n",
      " dropout (Dropout)           (None, 768)               0         \n",
      "                                                                 \n",
      " dense (Dense)               (None, 11)                8459      \n",
      "                                                                 \n",
      " batch_normalization_1 (Batc  (None, 11)               44        \n",
      " hNormalization)                                                 \n",
      "                                                                 \n",
      " dense_1 (Dense)             (None, 8)                 96        \n",
      "                                                                 \n",
      "=================================================================\n",
      "Total params: 85,810,327\n",
      "Trainable params: 85,808,769\n",
      "Non-trainable params: 1,558\n",
      "_________________________________________________________________\n"
     ]
    }
   ],
   "source": [
    "model1 = tf.keras.Sequential([\n",
    "        vit_model,\n",
    "        tf.keras.layers.Flatten(),\n",
    "        tf.keras.layers.BatchNormalization(),\n",
    "        tf.keras.layers.Dropout(0.3),\n",
    "        tf.keras.layers.Dense(11, activation = tfa.activations.gelu),\n",
    "        tf.keras.layers.BatchNormalization(),\n",
    "        tf.keras.layers.Dense(8, 'softmax')\n",
    "    ],\n",
    "    name = 'vision_transformer')\n",
    "\n",
    "model1.summary()"
   ]
  },
  {
   "cell_type": "code",
   "execution_count": 42,
   "metadata": {},
   "outputs": [],
   "source": [
    "model1.compile(loss=\"categorical_crossentropy\", # sparse_categorical_crossentropy for labels that are *not* one-hot\n",
    "                        optimizer=tf.keras.optimizers.Adam(0.001), # 10x lower learning rate than the default\n",
    "                        metrics=[\"accuracy\"])"
   ]
  },
  {
   "cell_type": "code",
   "execution_count": 43,
   "metadata": {},
   "outputs": [],
   "source": [
    "early_stopping = EarlyStopping(monitor='val_loss',patience=2)\n",
    "\n",
    "checkpointer = tf.keras.callbacks.ModelCheckpoint(filepath = 'model2.hdf5',\n",
    "                                                  monitor = 'val_accuracy', \n",
    "                                                  verbose = 1, \n",
    "                                                  save_best_only = True,\n",
    "                                                  save_weights_only = True,\n",
    "                                                  mode = 'max')\n",
    "\n",
    "def step_decay(epoch):\n",
    "    initial_lrate = 0.001\n",
    "    drop = 0.1\n",
    "    epochs_drop = 10.0\n",
    "    lrate = initial_lrate * math.pow(drop, math.floor((1+epoch)/epochs_drop))\n",
    "    return lrate\n",
    "\n",
    "lr_scheduler = tf.keras.callbacks.LearningRateScheduler(step_decay, verbose=1)"
   ]
  },
  {
   "cell_type": "code",
   "execution_count": 136,
   "metadata": {},
   "outputs": [],
   "source": [
    "# # early_stopping = EarlyStopping(monitor='val_loss',patience=5)\n",
    "\n",
    "# checkpointer = tf.keras.callbacks.ModelCheckpoint(filepath = 'ISIC_model.hdf5',\n",
    "#                                                   monitor = 'val_accuracy', \n",
    "#                                                   verbose = 1, \n",
    "#                                                   save_best_only = True,\n",
    "#                                                   save_weights_only = True,\n",
    "#                                                   mode = 'max')\n",
    "\n",
    "# # def step_decay(epoch):\n",
    "# #     initial_lrate = 0.0001\n",
    "# #     drop = 0.1\n",
    "# #     epochs_drop = 10.0\n",
    "# #     lrate = initial_lrate * math.pow(drop, math.floor((1+epoch)/epochs_drop))\n",
    "# #     return lrate\n",
    "# # lr_scheduler = tf.keras.callbacks.LearningRateScheduler(step_decay, verbose=1)\n",
    "\n",
    "\n",
    "# # Define a custom learning rate schedule with step decay\n",
    "# def step_decay_schedule(initial_lr, decay_factor, step_size):\n",
    "#     def schedule(epoch, lr):\n",
    "#         if (epoch + 1) % step_size == 0:\n",
    "#             return lr * decay_factor\n",
    "#         return lr\n",
    "\n",
    "#     return schedule\n",
    "\n",
    "\n",
    "# # Learning rate schedule with step decay\n",
    "# lr_schedule = tf.keras.callbacks.LearningRateScheduler(\n",
    "#     schedule=step_decay_schedule(initial_lr=0.001, decay_factor=0.5, step_size=5)\n",
    "# )\n",
    "\n",
    "\n",
    "# # Creating learning rate reduction callback\n",
    "# lr_scheduler = tf.keras.callbacks.ReduceLROnPlateau(monitor=\"val_loss\", \n",
    "#                                                  factor=0.2, # multiply the learning rate by 0.2 (reduce by 5x)\n",
    "#                                                  patience=5,\n",
    "#                                                  verbose=1, # print out when learning rate goes down \n",
    "#                                                  min_lr=1e-7)"
   ]
  },
  {
   "cell_type": "code",
   "execution_count": 44,
   "metadata": {},
   "outputs": [],
   "source": [
    "# callbacks = [early_stopping, checkpointer, lr_scheduler]\n",
    "callbacks = [checkpointer, early_stopping, lr_scheduler]"
   ]
  },
  {
   "cell_type": "code",
   "execution_count": 45,
   "metadata": {},
   "outputs": [
    {
     "data": {
      "text/plain": [
       "[PhysicalDevice(name='/physical_device:CPU:0', device_type='CPU'),\n",
       " PhysicalDevice(name='/physical_device:GPU:0', device_type='GPU')]"
      ]
     },
     "execution_count": 45,
     "metadata": {},
     "output_type": "execute_result"
    }
   ],
   "source": [
    "tf.config.list_physical_devices()"
   ]
  },
  {
   "cell_type": "code",
   "execution_count": 46,
   "metadata": {},
   "outputs": [
    {
     "name": "stdout",
     "output_type": "stream",
     "text": [
      "\n",
      "Epoch 1: LearningRateScheduler setting learning rate to 0.001.\n",
      "Epoch 1/40\n"
     ]
    },
    {
     "ename": "KeyboardInterrupt",
     "evalue": "",
     "output_type": "error",
     "traceback": [
      "\u001b[1;31m---------------------------------------------------------------------------\u001b[0m",
      "\u001b[1;31mKeyboardInterrupt\u001b[0m                         Traceback (most recent call last)",
      "\u001b[1;32mc:\\Users\\cl502_12\\Desktop\\FINAL_YEAR_PROJEC\\VIT_ISIC_2019.ipynb Cell 43\u001b[0m line \u001b[0;36m1\n\u001b[1;32m----> <a href='vscode-notebook-cell:/c%3A/Users/cl502_12/Desktop/FINAL_YEAR_PROJEC/VIT_ISIC_2019.ipynb#X56sZmlsZQ%3D%3D?line=0'>1</a>\u001b[0m history \u001b[39m=\u001b[39m model1\u001b[39m.\u001b[39;49mfit(train_batches, steps_per_epoch\u001b[39m=\u001b[39;49mtrain_steps,\n\u001b[0;32m      <a href='vscode-notebook-cell:/c%3A/Users/cl502_12/Desktop/FINAL_YEAR_PROJEC/VIT_ISIC_2019.ipynb#X56sZmlsZQ%3D%3D?line=1'>2</a>\u001b[0m                               validation_data\u001b[39m=\u001b[39;49mvalid_batches,\n\u001b[0;32m      <a href='vscode-notebook-cell:/c%3A/Users/cl502_12/Desktop/FINAL_YEAR_PROJEC/VIT_ISIC_2019.ipynb#X56sZmlsZQ%3D%3D?line=2'>3</a>\u001b[0m                               validation_steps\u001b[39m=\u001b[39;49mval_steps,\n\u001b[0;32m      <a href='vscode-notebook-cell:/c%3A/Users/cl502_12/Desktop/FINAL_YEAR_PROJEC/VIT_ISIC_2019.ipynb#X56sZmlsZQ%3D%3D?line=3'>4</a>\u001b[0m                               epochs\u001b[39m=\u001b[39;49m\u001b[39m40\u001b[39;49m,\n\u001b[0;32m      <a href='vscode-notebook-cell:/c%3A/Users/cl502_12/Desktop/FINAL_YEAR_PROJEC/VIT_ISIC_2019.ipynb#X56sZmlsZQ%3D%3D?line=4'>5</a>\u001b[0m                               callbacks\u001b[39m=\u001b[39;49mcallbacks)\n",
      "File \u001b[1;32mc:\\Users\\cl502_12\\Desktop\\FINAL_YEAR_PROJEC\\.venv\\lib\\site-packages\\keras\\utils\\traceback_utils.py:65\u001b[0m, in \u001b[0;36mfilter_traceback.<locals>.error_handler\u001b[1;34m(*args, **kwargs)\u001b[0m\n\u001b[0;32m     63\u001b[0m filtered_tb \u001b[39m=\u001b[39m \u001b[39mNone\u001b[39;00m\n\u001b[0;32m     64\u001b[0m \u001b[39mtry\u001b[39;00m:\n\u001b[1;32m---> 65\u001b[0m     \u001b[39mreturn\u001b[39;00m fn(\u001b[39m*\u001b[39margs, \u001b[39m*\u001b[39m\u001b[39m*\u001b[39mkwargs)\n\u001b[0;32m     66\u001b[0m \u001b[39mexcept\u001b[39;00m \u001b[39mException\u001b[39;00m \u001b[39mas\u001b[39;00m e:\n\u001b[0;32m     67\u001b[0m     filtered_tb \u001b[39m=\u001b[39m _process_traceback_frames(e\u001b[39m.\u001b[39m__traceback__)\n",
      "File \u001b[1;32mc:\\Users\\cl502_12\\Desktop\\FINAL_YEAR_PROJEC\\.venv\\lib\\site-packages\\keras\\engine\\training.py:1564\u001b[0m, in \u001b[0;36mModel.fit\u001b[1;34m(self, x, y, batch_size, epochs, verbose, callbacks, validation_split, validation_data, shuffle, class_weight, sample_weight, initial_epoch, steps_per_epoch, validation_steps, validation_batch_size, validation_freq, max_queue_size, workers, use_multiprocessing)\u001b[0m\n\u001b[0;32m   1556\u001b[0m \u001b[39mwith\u001b[39;00m tf\u001b[39m.\u001b[39mprofiler\u001b[39m.\u001b[39mexperimental\u001b[39m.\u001b[39mTrace(\n\u001b[0;32m   1557\u001b[0m     \u001b[39m\"\u001b[39m\u001b[39mtrain\u001b[39m\u001b[39m\"\u001b[39m,\n\u001b[0;32m   1558\u001b[0m     epoch_num\u001b[39m=\u001b[39mepoch,\n\u001b[1;32m   (...)\u001b[0m\n\u001b[0;32m   1561\u001b[0m     _r\u001b[39m=\u001b[39m\u001b[39m1\u001b[39m,\n\u001b[0;32m   1562\u001b[0m ):\n\u001b[0;32m   1563\u001b[0m     callbacks\u001b[39m.\u001b[39mon_train_batch_begin(step)\n\u001b[1;32m-> 1564\u001b[0m     tmp_logs \u001b[39m=\u001b[39m \u001b[39mself\u001b[39;49m\u001b[39m.\u001b[39;49mtrain_function(iterator)\n\u001b[0;32m   1565\u001b[0m     \u001b[39mif\u001b[39;00m data_handler\u001b[39m.\u001b[39mshould_sync:\n\u001b[0;32m   1566\u001b[0m         context\u001b[39m.\u001b[39masync_wait()\n",
      "File \u001b[1;32mc:\\Users\\cl502_12\\Desktop\\FINAL_YEAR_PROJEC\\.venv\\lib\\site-packages\\tensorflow\\python\\util\\traceback_utils.py:150\u001b[0m, in \u001b[0;36mfilter_traceback.<locals>.error_handler\u001b[1;34m(*args, **kwargs)\u001b[0m\n\u001b[0;32m    148\u001b[0m filtered_tb \u001b[39m=\u001b[39m \u001b[39mNone\u001b[39;00m\n\u001b[0;32m    149\u001b[0m \u001b[39mtry\u001b[39;00m:\n\u001b[1;32m--> 150\u001b[0m   \u001b[39mreturn\u001b[39;00m fn(\u001b[39m*\u001b[39margs, \u001b[39m*\u001b[39m\u001b[39m*\u001b[39mkwargs)\n\u001b[0;32m    151\u001b[0m \u001b[39mexcept\u001b[39;00m \u001b[39mException\u001b[39;00m \u001b[39mas\u001b[39;00m e:\n\u001b[0;32m    152\u001b[0m   filtered_tb \u001b[39m=\u001b[39m _process_traceback_frames(e\u001b[39m.\u001b[39m__traceback__)\n",
      "File \u001b[1;32mc:\\Users\\cl502_12\\Desktop\\FINAL_YEAR_PROJEC\\.venv\\lib\\site-packages\\tensorflow\\python\\eager\\def_function.py:915\u001b[0m, in \u001b[0;36mFunction.__call__\u001b[1;34m(self, *args, **kwds)\u001b[0m\n\u001b[0;32m    912\u001b[0m compiler \u001b[39m=\u001b[39m \u001b[39m\"\u001b[39m\u001b[39mxla\u001b[39m\u001b[39m\"\u001b[39m \u001b[39mif\u001b[39;00m \u001b[39mself\u001b[39m\u001b[39m.\u001b[39m_jit_compile \u001b[39melse\u001b[39;00m \u001b[39m\"\u001b[39m\u001b[39mnonXla\u001b[39m\u001b[39m\"\u001b[39m\n\u001b[0;32m    914\u001b[0m \u001b[39mwith\u001b[39;00m OptionalXlaContext(\u001b[39mself\u001b[39m\u001b[39m.\u001b[39m_jit_compile):\n\u001b[1;32m--> 915\u001b[0m   result \u001b[39m=\u001b[39m \u001b[39mself\u001b[39m\u001b[39m.\u001b[39m_call(\u001b[39m*\u001b[39margs, \u001b[39m*\u001b[39m\u001b[39m*\u001b[39mkwds)\n\u001b[0;32m    917\u001b[0m new_tracing_count \u001b[39m=\u001b[39m \u001b[39mself\u001b[39m\u001b[39m.\u001b[39mexperimental_get_tracing_count()\n\u001b[0;32m    918\u001b[0m without_tracing \u001b[39m=\u001b[39m (tracing_count \u001b[39m==\u001b[39m new_tracing_count)\n",
      "File \u001b[1;32mc:\\Users\\cl502_12\\Desktop\\FINAL_YEAR_PROJEC\\.venv\\lib\\site-packages\\tensorflow\\python\\eager\\def_function.py:980\u001b[0m, in \u001b[0;36mFunction._call\u001b[1;34m(self, *args, **kwds)\u001b[0m\n\u001b[0;32m    976\u001b[0m     \u001b[39mpass\u001b[39;00m  \u001b[39m# Fall through to cond-based initialization.\u001b[39;00m\n\u001b[0;32m    977\u001b[0m   \u001b[39melse\u001b[39;00m:\n\u001b[0;32m    978\u001b[0m     \u001b[39m# Lifting succeeded, so variables are initialized and we can run the\u001b[39;00m\n\u001b[0;32m    979\u001b[0m     \u001b[39m# stateless function.\u001b[39;00m\n\u001b[1;32m--> 980\u001b[0m     \u001b[39mreturn\u001b[39;00m \u001b[39mself\u001b[39m\u001b[39m.\u001b[39m_stateless_fn(\u001b[39m*\u001b[39margs, \u001b[39m*\u001b[39m\u001b[39m*\u001b[39mkwds)\n\u001b[0;32m    981\u001b[0m \u001b[39melse\u001b[39;00m:\n\u001b[0;32m    982\u001b[0m   _, _, filtered_flat_args \u001b[39m=\u001b[39m (\n\u001b[0;32m    983\u001b[0m       \u001b[39mself\u001b[39m\u001b[39m.\u001b[39m_stateful_fn\u001b[39m.\u001b[39m_function_spec\u001b[39m.\u001b[39mcanonicalize_function_inputs(  \u001b[39m# pylint: disable=protected-access\u001b[39;00m\n\u001b[0;32m    984\u001b[0m           \u001b[39m*\u001b[39margs, \u001b[39m*\u001b[39m\u001b[39m*\u001b[39mkwds))\n",
      "File \u001b[1;32mc:\\Users\\cl502_12\\Desktop\\FINAL_YEAR_PROJEC\\.venv\\lib\\site-packages\\tensorflow\\python\\eager\\function.py:2496\u001b[0m, in \u001b[0;36mFunction.__call__\u001b[1;34m(self, *args, **kwargs)\u001b[0m\n\u001b[0;32m   2493\u001b[0m \u001b[39mwith\u001b[39;00m \u001b[39mself\u001b[39m\u001b[39m.\u001b[39m_lock:\n\u001b[0;32m   2494\u001b[0m   (graph_function,\n\u001b[0;32m   2495\u001b[0m    filtered_flat_args) \u001b[39m=\u001b[39m \u001b[39mself\u001b[39m\u001b[39m.\u001b[39m_maybe_define_function(args, kwargs)\n\u001b[1;32m-> 2496\u001b[0m \u001b[39mreturn\u001b[39;00m graph_function\u001b[39m.\u001b[39;49m_call_flat(\n\u001b[0;32m   2497\u001b[0m     filtered_flat_args, captured_inputs\u001b[39m=\u001b[39;49mgraph_function\u001b[39m.\u001b[39;49mcaptured_inputs)\n",
      "File \u001b[1;32mc:\\Users\\cl502_12\\Desktop\\FINAL_YEAR_PROJEC\\.venv\\lib\\site-packages\\tensorflow\\python\\eager\\function.py:1862\u001b[0m, in \u001b[0;36mConcreteFunction._call_flat\u001b[1;34m(self, args, captured_inputs, cancellation_manager)\u001b[0m\n\u001b[0;32m   1858\u001b[0m possible_gradient_type \u001b[39m=\u001b[39m gradients_util\u001b[39m.\u001b[39mPossibleTapeGradientTypes(args)\n\u001b[0;32m   1859\u001b[0m \u001b[39mif\u001b[39;00m (possible_gradient_type \u001b[39m==\u001b[39m gradients_util\u001b[39m.\u001b[39mPOSSIBLE_GRADIENT_TYPES_NONE\n\u001b[0;32m   1860\u001b[0m     \u001b[39mand\u001b[39;00m executing_eagerly):\n\u001b[0;32m   1861\u001b[0m   \u001b[39m# No tape is watching; skip to running the function.\u001b[39;00m\n\u001b[1;32m-> 1862\u001b[0m   \u001b[39mreturn\u001b[39;00m \u001b[39mself\u001b[39m\u001b[39m.\u001b[39m_build_call_outputs(\u001b[39mself\u001b[39;49m\u001b[39m.\u001b[39;49m_inference_function\u001b[39m.\u001b[39;49mcall(\n\u001b[0;32m   1863\u001b[0m       ctx, args, cancellation_manager\u001b[39m=\u001b[39;49mcancellation_manager))\n\u001b[0;32m   1864\u001b[0m forward_backward \u001b[39m=\u001b[39m \u001b[39mself\u001b[39m\u001b[39m.\u001b[39m_select_forward_and_backward_functions(\n\u001b[0;32m   1865\u001b[0m     args,\n\u001b[0;32m   1866\u001b[0m     possible_gradient_type,\n\u001b[0;32m   1867\u001b[0m     executing_eagerly)\n\u001b[0;32m   1868\u001b[0m forward_function, args_with_tangents \u001b[39m=\u001b[39m forward_backward\u001b[39m.\u001b[39mforward()\n",
      "File \u001b[1;32mc:\\Users\\cl502_12\\Desktop\\FINAL_YEAR_PROJEC\\.venv\\lib\\site-packages\\tensorflow\\python\\eager\\function.py:499\u001b[0m, in \u001b[0;36m_EagerDefinedFunction.call\u001b[1;34m(self, ctx, args, cancellation_manager)\u001b[0m\n\u001b[0;32m    497\u001b[0m \u001b[39mwith\u001b[39;00m _InterpolateFunctionError(\u001b[39mself\u001b[39m):\n\u001b[0;32m    498\u001b[0m   \u001b[39mif\u001b[39;00m cancellation_manager \u001b[39mis\u001b[39;00m \u001b[39mNone\u001b[39;00m:\n\u001b[1;32m--> 499\u001b[0m     outputs \u001b[39m=\u001b[39m execute\u001b[39m.\u001b[39;49mexecute(\n\u001b[0;32m    500\u001b[0m         \u001b[39mstr\u001b[39;49m(\u001b[39mself\u001b[39;49m\u001b[39m.\u001b[39;49msignature\u001b[39m.\u001b[39;49mname),\n\u001b[0;32m    501\u001b[0m         num_outputs\u001b[39m=\u001b[39;49m\u001b[39mself\u001b[39;49m\u001b[39m.\u001b[39;49m_num_outputs,\n\u001b[0;32m    502\u001b[0m         inputs\u001b[39m=\u001b[39;49margs,\n\u001b[0;32m    503\u001b[0m         attrs\u001b[39m=\u001b[39;49mattrs,\n\u001b[0;32m    504\u001b[0m         ctx\u001b[39m=\u001b[39;49mctx)\n\u001b[0;32m    505\u001b[0m   \u001b[39melse\u001b[39;00m:\n\u001b[0;32m    506\u001b[0m     outputs \u001b[39m=\u001b[39m execute\u001b[39m.\u001b[39mexecute_with_cancellation(\n\u001b[0;32m    507\u001b[0m         \u001b[39mstr\u001b[39m(\u001b[39mself\u001b[39m\u001b[39m.\u001b[39msignature\u001b[39m.\u001b[39mname),\n\u001b[0;32m    508\u001b[0m         num_outputs\u001b[39m=\u001b[39m\u001b[39mself\u001b[39m\u001b[39m.\u001b[39m_num_outputs,\n\u001b[1;32m   (...)\u001b[0m\n\u001b[0;32m    511\u001b[0m         ctx\u001b[39m=\u001b[39mctx,\n\u001b[0;32m    512\u001b[0m         cancellation_manager\u001b[39m=\u001b[39mcancellation_manager)\n",
      "File \u001b[1;32mc:\\Users\\cl502_12\\Desktop\\FINAL_YEAR_PROJEC\\.venv\\lib\\site-packages\\tensorflow\\python\\eager\\execute.py:54\u001b[0m, in \u001b[0;36mquick_execute\u001b[1;34m(op_name, num_outputs, inputs, attrs, ctx, name)\u001b[0m\n\u001b[0;32m     52\u001b[0m \u001b[39mtry\u001b[39;00m:\n\u001b[0;32m     53\u001b[0m   ctx\u001b[39m.\u001b[39mensure_initialized()\n\u001b[1;32m---> 54\u001b[0m   tensors \u001b[39m=\u001b[39m pywrap_tfe\u001b[39m.\u001b[39;49mTFE_Py_Execute(ctx\u001b[39m.\u001b[39;49m_handle, device_name, op_name,\n\u001b[0;32m     55\u001b[0m                                       inputs, attrs, num_outputs)\n\u001b[0;32m     56\u001b[0m \u001b[39mexcept\u001b[39;00m core\u001b[39m.\u001b[39m_NotOkStatusException \u001b[39mas\u001b[39;00m e:\n\u001b[0;32m     57\u001b[0m   \u001b[39mif\u001b[39;00m name \u001b[39mis\u001b[39;00m \u001b[39mnot\u001b[39;00m \u001b[39mNone\u001b[39;00m:\n",
      "\u001b[1;31mKeyboardInterrupt\u001b[0m: "
     ]
    }
   ],
   "source": [
    "history = model1.fit(train_batches, steps_per_epoch=train_steps,\n",
    "                              validation_data=valid_batches,\n",
    "                              validation_steps=val_steps,\n",
    "                              epochs=40,\n",
    "                              callbacks=callbacks)"
   ]
  },
  {
   "cell_type": "code",
   "execution_count": 147,
   "metadata": {},
   "outputs": [],
   "source": [
    "\n",
    "acc = history.history['accuracy']\n",
    "val_acc = history.history['val_accuracy']\n",
    "loss = history.history['loss']\n",
    "val_loss = history.history['val_loss']\n",
    "epochs = range(len(acc))"
   ]
  },
  {
   "cell_type": "code",
   "execution_count": 47,
   "metadata": {},
   "outputs": [],
   "source": [
    "# plt.plot(epochs, acc, 'r', label='Training accuracy')\n",
    "# plt.plot(epochs, val_acc, 'b', label='Validation accuracy')\n",
    "# plt.title('Model Accuracy: Training and Validation')\n",
    "# plt.legend(loc=0)\n",
    "# plt.figure()"
   ]
  },
  {
   "cell_type": "code",
   "execution_count": 48,
   "metadata": {},
   "outputs": [],
   "source": [
    "# plt.plot(epochs, loss, 'r', label='Training loss')\n",
    "# plt.plot(epochs, val_loss, 'b', label='Validation loss')\n",
    "# plt.title('Training and validation Loss')\n",
    "# plt.legend(loc=0)\n",
    "# plt.figure()"
   ]
  },
  {
   "cell_type": "code",
   "execution_count": 150,
   "metadata": {},
   "outputs": [],
   "source": [
    "from tensorflow.keras.models import Model\n",
    "from keras import models"
   ]
  },
  {
   "cell_type": "code",
   "execution_count": 151,
   "metadata": {},
   "outputs": [
    {
     "name": "stdout",
     "output_type": "stream",
     "text": [
      "  36/4976 [..............................] - ETA: 10:29 - loss: 2.3576 - accuracy: 0.3333"
     ]
    },
    {
     "ename": "KeyboardInterrupt",
     "evalue": "",
     "output_type": "error",
     "traceback": [
      "\u001b[1;31m---------------------------------------------------------------------------\u001b[0m",
      "\u001b[1;31mKeyboardInterrupt\u001b[0m                         Traceback (most recent call last)",
      "\u001b[1;32mc:\\Users\\cl502_12\\Desktop\\FINAL_YEAR_PROJEC\\VIT_ISIC_2019.ipynb Cell 47\u001b[0m line \u001b[0;36m1\n\u001b[1;32m----> <a href='vscode-notebook-cell:/c%3A/Users/cl502_12/Desktop/FINAL_YEAR_PROJEC/VIT_ISIC_2019.ipynb#Y111sZmlsZQ%3D%3D?line=0'>1</a>\u001b[0m model_test_performace \u001b[39m=\u001b[39m model\u001b[39m.\u001b[39;49mevaluate(test_batches)\n",
      "File \u001b[1;32mc:\\Users\\cl502_12\\Desktop\\FINAL_YEAR_PROJEC\\.venv\\lib\\site-packages\\keras\\utils\\traceback_utils.py:65\u001b[0m, in \u001b[0;36mfilter_traceback.<locals>.error_handler\u001b[1;34m(*args, **kwargs)\u001b[0m\n\u001b[0;32m     63\u001b[0m filtered_tb \u001b[39m=\u001b[39m \u001b[39mNone\u001b[39;00m\n\u001b[0;32m     64\u001b[0m \u001b[39mtry\u001b[39;00m:\n\u001b[1;32m---> 65\u001b[0m     \u001b[39mreturn\u001b[39;00m fn(\u001b[39m*\u001b[39margs, \u001b[39m*\u001b[39m\u001b[39m*\u001b[39mkwargs)\n\u001b[0;32m     66\u001b[0m \u001b[39mexcept\u001b[39;00m \u001b[39mException\u001b[39;00m \u001b[39mas\u001b[39;00m e:\n\u001b[0;32m     67\u001b[0m     filtered_tb \u001b[39m=\u001b[39m _process_traceback_frames(e\u001b[39m.\u001b[39m__traceback__)\n",
      "File \u001b[1;32mc:\\Users\\cl502_12\\Desktop\\FINAL_YEAR_PROJEC\\.venv\\lib\\site-packages\\keras\\engine\\training.py:1947\u001b[0m, in \u001b[0;36mModel.evaluate\u001b[1;34m(self, x, y, batch_size, verbose, sample_weight, steps, callbacks, max_queue_size, workers, use_multiprocessing, return_dict, **kwargs)\u001b[0m\n\u001b[0;32m   1943\u001b[0m \u001b[39mwith\u001b[39;00m tf\u001b[39m.\u001b[39mprofiler\u001b[39m.\u001b[39mexperimental\u001b[39m.\u001b[39mTrace(\n\u001b[0;32m   1944\u001b[0m     \u001b[39m\"\u001b[39m\u001b[39mtest\u001b[39m\u001b[39m\"\u001b[39m, step_num\u001b[39m=\u001b[39mstep, _r\u001b[39m=\u001b[39m\u001b[39m1\u001b[39m\n\u001b[0;32m   1945\u001b[0m ):\n\u001b[0;32m   1946\u001b[0m     callbacks\u001b[39m.\u001b[39mon_test_batch_begin(step)\n\u001b[1;32m-> 1947\u001b[0m     tmp_logs \u001b[39m=\u001b[39m \u001b[39mself\u001b[39;49m\u001b[39m.\u001b[39;49mtest_function(iterator)\n\u001b[0;32m   1948\u001b[0m     \u001b[39mif\u001b[39;00m data_handler\u001b[39m.\u001b[39mshould_sync:\n\u001b[0;32m   1949\u001b[0m         context\u001b[39m.\u001b[39masync_wait()\n",
      "File \u001b[1;32mc:\\Users\\cl502_12\\Desktop\\FINAL_YEAR_PROJEC\\.venv\\lib\\site-packages\\tensorflow\\python\\util\\traceback_utils.py:150\u001b[0m, in \u001b[0;36mfilter_traceback.<locals>.error_handler\u001b[1;34m(*args, **kwargs)\u001b[0m\n\u001b[0;32m    148\u001b[0m filtered_tb \u001b[39m=\u001b[39m \u001b[39mNone\u001b[39;00m\n\u001b[0;32m    149\u001b[0m \u001b[39mtry\u001b[39;00m:\n\u001b[1;32m--> 150\u001b[0m   \u001b[39mreturn\u001b[39;00m fn(\u001b[39m*\u001b[39margs, \u001b[39m*\u001b[39m\u001b[39m*\u001b[39mkwargs)\n\u001b[0;32m    151\u001b[0m \u001b[39mexcept\u001b[39;00m \u001b[39mException\u001b[39;00m \u001b[39mas\u001b[39;00m e:\n\u001b[0;32m    152\u001b[0m   filtered_tb \u001b[39m=\u001b[39m _process_traceback_frames(e\u001b[39m.\u001b[39m__traceback__)\n",
      "File \u001b[1;32mc:\\Users\\cl502_12\\Desktop\\FINAL_YEAR_PROJEC\\.venv\\lib\\site-packages\\tensorflow\\python\\eager\\def_function.py:915\u001b[0m, in \u001b[0;36mFunction.__call__\u001b[1;34m(self, *args, **kwds)\u001b[0m\n\u001b[0;32m    912\u001b[0m compiler \u001b[39m=\u001b[39m \u001b[39m\"\u001b[39m\u001b[39mxla\u001b[39m\u001b[39m\"\u001b[39m \u001b[39mif\u001b[39;00m \u001b[39mself\u001b[39m\u001b[39m.\u001b[39m_jit_compile \u001b[39melse\u001b[39;00m \u001b[39m\"\u001b[39m\u001b[39mnonXla\u001b[39m\u001b[39m\"\u001b[39m\n\u001b[0;32m    914\u001b[0m \u001b[39mwith\u001b[39;00m OptionalXlaContext(\u001b[39mself\u001b[39m\u001b[39m.\u001b[39m_jit_compile):\n\u001b[1;32m--> 915\u001b[0m   result \u001b[39m=\u001b[39m \u001b[39mself\u001b[39m\u001b[39m.\u001b[39m_call(\u001b[39m*\u001b[39margs, \u001b[39m*\u001b[39m\u001b[39m*\u001b[39mkwds)\n\u001b[0;32m    917\u001b[0m new_tracing_count \u001b[39m=\u001b[39m \u001b[39mself\u001b[39m\u001b[39m.\u001b[39mexperimental_get_tracing_count()\n\u001b[0;32m    918\u001b[0m without_tracing \u001b[39m=\u001b[39m (tracing_count \u001b[39m==\u001b[39m new_tracing_count)\n",
      "File \u001b[1;32mc:\\Users\\cl502_12\\Desktop\\FINAL_YEAR_PROJEC\\.venv\\lib\\site-packages\\tensorflow\\python\\eager\\def_function.py:954\u001b[0m, in \u001b[0;36mFunction._call\u001b[1;34m(self, *args, **kwds)\u001b[0m\n\u001b[0;32m    951\u001b[0m \u001b[39mself\u001b[39m\u001b[39m.\u001b[39m_lock\u001b[39m.\u001b[39mrelease()\n\u001b[0;32m    952\u001b[0m \u001b[39m# In this case we have not created variables on the first call. So we can\u001b[39;00m\n\u001b[0;32m    953\u001b[0m \u001b[39m# run the first trace but we should fail if variables are created.\u001b[39;00m\n\u001b[1;32m--> 954\u001b[0m results \u001b[39m=\u001b[39m \u001b[39mself\u001b[39m\u001b[39m.\u001b[39m_stateful_fn(\u001b[39m*\u001b[39margs, \u001b[39m*\u001b[39m\u001b[39m*\u001b[39mkwds)\n\u001b[0;32m    955\u001b[0m \u001b[39mif\u001b[39;00m \u001b[39mself\u001b[39m\u001b[39m.\u001b[39m_created_variables \u001b[39mand\u001b[39;00m \u001b[39mnot\u001b[39;00m ALLOW_DYNAMIC_VARIABLE_CREATION:\n\u001b[0;32m    956\u001b[0m   \u001b[39mraise\u001b[39;00m \u001b[39mValueError\u001b[39;00m(\u001b[39m\"\u001b[39m\u001b[39mCreating variables on a non-first call to a function\u001b[39m\u001b[39m\"\u001b[39m\n\u001b[0;32m    957\u001b[0m                    \u001b[39m\"\u001b[39m\u001b[39m decorated with tf.function.\u001b[39m\u001b[39m\"\u001b[39m)\n",
      "File \u001b[1;32mc:\\Users\\cl502_12\\Desktop\\FINAL_YEAR_PROJEC\\.venv\\lib\\site-packages\\tensorflow\\python\\eager\\function.py:2496\u001b[0m, in \u001b[0;36mFunction.__call__\u001b[1;34m(self, *args, **kwargs)\u001b[0m\n\u001b[0;32m   2493\u001b[0m \u001b[39mwith\u001b[39;00m \u001b[39mself\u001b[39m\u001b[39m.\u001b[39m_lock:\n\u001b[0;32m   2494\u001b[0m   (graph_function,\n\u001b[0;32m   2495\u001b[0m    filtered_flat_args) \u001b[39m=\u001b[39m \u001b[39mself\u001b[39m\u001b[39m.\u001b[39m_maybe_define_function(args, kwargs)\n\u001b[1;32m-> 2496\u001b[0m \u001b[39mreturn\u001b[39;00m graph_function\u001b[39m.\u001b[39;49m_call_flat(\n\u001b[0;32m   2497\u001b[0m     filtered_flat_args, captured_inputs\u001b[39m=\u001b[39;49mgraph_function\u001b[39m.\u001b[39;49mcaptured_inputs)\n",
      "File \u001b[1;32mc:\\Users\\cl502_12\\Desktop\\FINAL_YEAR_PROJEC\\.venv\\lib\\site-packages\\tensorflow\\python\\eager\\function.py:1862\u001b[0m, in \u001b[0;36mConcreteFunction._call_flat\u001b[1;34m(self, args, captured_inputs, cancellation_manager)\u001b[0m\n\u001b[0;32m   1858\u001b[0m possible_gradient_type \u001b[39m=\u001b[39m gradients_util\u001b[39m.\u001b[39mPossibleTapeGradientTypes(args)\n\u001b[0;32m   1859\u001b[0m \u001b[39mif\u001b[39;00m (possible_gradient_type \u001b[39m==\u001b[39m gradients_util\u001b[39m.\u001b[39mPOSSIBLE_GRADIENT_TYPES_NONE\n\u001b[0;32m   1860\u001b[0m     \u001b[39mand\u001b[39;00m executing_eagerly):\n\u001b[0;32m   1861\u001b[0m   \u001b[39m# No tape is watching; skip to running the function.\u001b[39;00m\n\u001b[1;32m-> 1862\u001b[0m   \u001b[39mreturn\u001b[39;00m \u001b[39mself\u001b[39m\u001b[39m.\u001b[39m_build_call_outputs(\u001b[39mself\u001b[39;49m\u001b[39m.\u001b[39;49m_inference_function\u001b[39m.\u001b[39;49mcall(\n\u001b[0;32m   1863\u001b[0m       ctx, args, cancellation_manager\u001b[39m=\u001b[39;49mcancellation_manager))\n\u001b[0;32m   1864\u001b[0m forward_backward \u001b[39m=\u001b[39m \u001b[39mself\u001b[39m\u001b[39m.\u001b[39m_select_forward_and_backward_functions(\n\u001b[0;32m   1865\u001b[0m     args,\n\u001b[0;32m   1866\u001b[0m     possible_gradient_type,\n\u001b[0;32m   1867\u001b[0m     executing_eagerly)\n\u001b[0;32m   1868\u001b[0m forward_function, args_with_tangents \u001b[39m=\u001b[39m forward_backward\u001b[39m.\u001b[39mforward()\n",
      "File \u001b[1;32mc:\\Users\\cl502_12\\Desktop\\FINAL_YEAR_PROJEC\\.venv\\lib\\site-packages\\tensorflow\\python\\eager\\function.py:499\u001b[0m, in \u001b[0;36m_EagerDefinedFunction.call\u001b[1;34m(self, ctx, args, cancellation_manager)\u001b[0m\n\u001b[0;32m    497\u001b[0m \u001b[39mwith\u001b[39;00m _InterpolateFunctionError(\u001b[39mself\u001b[39m):\n\u001b[0;32m    498\u001b[0m   \u001b[39mif\u001b[39;00m cancellation_manager \u001b[39mis\u001b[39;00m \u001b[39mNone\u001b[39;00m:\n\u001b[1;32m--> 499\u001b[0m     outputs \u001b[39m=\u001b[39m execute\u001b[39m.\u001b[39;49mexecute(\n\u001b[0;32m    500\u001b[0m         \u001b[39mstr\u001b[39;49m(\u001b[39mself\u001b[39;49m\u001b[39m.\u001b[39;49msignature\u001b[39m.\u001b[39;49mname),\n\u001b[0;32m    501\u001b[0m         num_outputs\u001b[39m=\u001b[39;49m\u001b[39mself\u001b[39;49m\u001b[39m.\u001b[39;49m_num_outputs,\n\u001b[0;32m    502\u001b[0m         inputs\u001b[39m=\u001b[39;49margs,\n\u001b[0;32m    503\u001b[0m         attrs\u001b[39m=\u001b[39;49mattrs,\n\u001b[0;32m    504\u001b[0m         ctx\u001b[39m=\u001b[39;49mctx)\n\u001b[0;32m    505\u001b[0m   \u001b[39melse\u001b[39;00m:\n\u001b[0;32m    506\u001b[0m     outputs \u001b[39m=\u001b[39m execute\u001b[39m.\u001b[39mexecute_with_cancellation(\n\u001b[0;32m    507\u001b[0m         \u001b[39mstr\u001b[39m(\u001b[39mself\u001b[39m\u001b[39m.\u001b[39msignature\u001b[39m.\u001b[39mname),\n\u001b[0;32m    508\u001b[0m         num_outputs\u001b[39m=\u001b[39m\u001b[39mself\u001b[39m\u001b[39m.\u001b[39m_num_outputs,\n\u001b[1;32m   (...)\u001b[0m\n\u001b[0;32m    511\u001b[0m         ctx\u001b[39m=\u001b[39mctx,\n\u001b[0;32m    512\u001b[0m         cancellation_manager\u001b[39m=\u001b[39mcancellation_manager)\n",
      "File \u001b[1;32mc:\\Users\\cl502_12\\Desktop\\FINAL_YEAR_PROJEC\\.venv\\lib\\site-packages\\tensorflow\\python\\eager\\execute.py:54\u001b[0m, in \u001b[0;36mquick_execute\u001b[1;34m(op_name, num_outputs, inputs, attrs, ctx, name)\u001b[0m\n\u001b[0;32m     52\u001b[0m \u001b[39mtry\u001b[39;00m:\n\u001b[0;32m     53\u001b[0m   ctx\u001b[39m.\u001b[39mensure_initialized()\n\u001b[1;32m---> 54\u001b[0m   tensors \u001b[39m=\u001b[39m pywrap_tfe\u001b[39m.\u001b[39;49mTFE_Py_Execute(ctx\u001b[39m.\u001b[39;49m_handle, device_name, op_name,\n\u001b[0;32m     55\u001b[0m                                       inputs, attrs, num_outputs)\n\u001b[0;32m     56\u001b[0m \u001b[39mexcept\u001b[39;00m core\u001b[39m.\u001b[39m_NotOkStatusException \u001b[39mas\u001b[39;00m e:\n\u001b[0;32m     57\u001b[0m   \u001b[39mif\u001b[39;00m name \u001b[39mis\u001b[39;00m \u001b[39mnot\u001b[39;00m \u001b[39mNone\u001b[39;00m:\n",
      "\u001b[1;31mKeyboardInterrupt\u001b[0m: "
     ]
    }
   ],
   "source": [
    "model_test_performace = model1.evaluate(test_batches)"
   ]
  },
  {
   "cell_type": "code",
   "execution_count": null,
   "metadata": {},
   "outputs": [],
   "source": [
    "test_accuracy = model_test_performace[1]\n",
    "\n",
    "print(f'Test accuracy: {round(test_accuracy*100, 2)}%')"
   ]
  },
  {
   "cell_type": "code",
   "execution_count": 152,
   "metadata": {},
   "outputs": [],
   "source": [
    "test_labels = test_batches.classes"
   ]
  },
  {
   "cell_type": "code",
   "execution_count": 153,
   "metadata": {},
   "outputs": [
    {
     "data": {
      "text/plain": [
       "{'AK': 0, 'BCC': 1, 'BKL': 2, 'DF': 3, 'MEL': 4, 'NV': 5, 'SCC': 6, 'VASC': 7}"
      ]
     },
     "execution_count": 153,
     "metadata": {},
     "output_type": "execute_result"
    }
   ],
   "source": [
    "test_batches.class_indices"
   ]
  },
  {
   "cell_type": "code",
   "execution_count": 154,
   "metadata": {},
   "outputs": [
    {
     "data": {
      "text/plain": [
       "(4976,)"
      ]
     },
     "execution_count": 154,
     "metadata": {},
     "output_type": "execute_result"
    }
   ],
   "source": [
    "test_labels.shape"
   ]
  },
  {
   "cell_type": "code",
   "execution_count": 155,
   "metadata": {},
   "outputs": [
    {
     "name": "stderr",
     "output_type": "stream",
     "text": [
      "C:\\Users\\cl502_12\\AppData\\Local\\Temp\\ipykernel_33516\\2830036314.py:1: UserWarning: `Model.predict_generator` is deprecated and will be removed in a future version. Please use `Model.predict`, which supports generators.\n",
      "  predictions = model.predict_generator(test_batches, verbose=1)\n"
     ]
    },
    {
     "name": "stdout",
     "output_type": "stream",
     "text": [
      "  61/4976 [..............................] - ETA: 11:47"
     ]
    },
    {
     "ename": "KeyboardInterrupt",
     "evalue": "",
     "output_type": "error",
     "traceback": [
      "\u001b[1;31m---------------------------------------------------------------------------\u001b[0m",
      "\u001b[1;31mKeyboardInterrupt\u001b[0m                         Traceback (most recent call last)",
      "\u001b[1;32mc:\\Users\\cl502_12\\Desktop\\FINAL_YEAR_PROJEC\\VIT_ISIC_2019.ipynb Cell 52\u001b[0m line \u001b[0;36m1\n\u001b[1;32m----> <a href='vscode-notebook-cell:/c%3A/Users/cl502_12/Desktop/FINAL_YEAR_PROJEC/VIT_ISIC_2019.ipynb#Y115sZmlsZQ%3D%3D?line=0'>1</a>\u001b[0m predictions \u001b[39m=\u001b[39m model\u001b[39m.\u001b[39;49mpredict_generator(test_batches, verbose\u001b[39m=\u001b[39;49m\u001b[39m1\u001b[39;49m)\n",
      "File \u001b[1;32mc:\\Users\\cl502_12\\Desktop\\FINAL_YEAR_PROJEC\\.venv\\lib\\site-packages\\keras\\engine\\training.py:2582\u001b[0m, in \u001b[0;36mModel.predict_generator\u001b[1;34m(self, generator, steps, callbacks, max_queue_size, workers, use_multiprocessing, verbose)\u001b[0m\n\u001b[0;32m   2570\u001b[0m \u001b[39m\u001b[39m\u001b[39m\"\"\"Generates predictions for the input samples from a data generator.\u001b[39;00m\n\u001b[0;32m   2571\u001b[0m \n\u001b[0;32m   2572\u001b[0m \u001b[39mDEPRECATED:\u001b[39;00m\n\u001b[0;32m   2573\u001b[0m \u001b[39m  `Model.predict` now supports generators, so there is no longer any\u001b[39;00m\n\u001b[0;32m   2574\u001b[0m \u001b[39m  need to use this endpoint.\u001b[39;00m\n\u001b[0;32m   2575\u001b[0m \u001b[39m\"\"\"\u001b[39;00m\n\u001b[0;32m   2576\u001b[0m warnings\u001b[39m.\u001b[39mwarn(\n\u001b[0;32m   2577\u001b[0m     \u001b[39m\"\u001b[39m\u001b[39m`Model.predict_generator` is deprecated and \u001b[39m\u001b[39m\"\u001b[39m\n\u001b[0;32m   2578\u001b[0m     \u001b[39m\"\u001b[39m\u001b[39mwill be removed in a future version. \u001b[39m\u001b[39m\"\u001b[39m\n\u001b[0;32m   2579\u001b[0m     \u001b[39m\"\u001b[39m\u001b[39mPlease use `Model.predict`, which supports generators.\u001b[39m\u001b[39m\"\u001b[39m,\n\u001b[0;32m   2580\u001b[0m     stacklevel\u001b[39m=\u001b[39m\u001b[39m2\u001b[39m,\n\u001b[0;32m   2581\u001b[0m )\n\u001b[1;32m-> 2582\u001b[0m \u001b[39mreturn\u001b[39;00m \u001b[39mself\u001b[39;49m\u001b[39m.\u001b[39;49mpredict(\n\u001b[0;32m   2583\u001b[0m     generator,\n\u001b[0;32m   2584\u001b[0m     steps\u001b[39m=\u001b[39;49msteps,\n\u001b[0;32m   2585\u001b[0m     max_queue_size\u001b[39m=\u001b[39;49mmax_queue_size,\n\u001b[0;32m   2586\u001b[0m     workers\u001b[39m=\u001b[39;49mworkers,\n\u001b[0;32m   2587\u001b[0m     use_multiprocessing\u001b[39m=\u001b[39;49muse_multiprocessing,\n\u001b[0;32m   2588\u001b[0m     verbose\u001b[39m=\u001b[39;49mverbose,\n\u001b[0;32m   2589\u001b[0m     callbacks\u001b[39m=\u001b[39;49mcallbacks,\n\u001b[0;32m   2590\u001b[0m )\n",
      "File \u001b[1;32mc:\\Users\\cl502_12\\Desktop\\FINAL_YEAR_PROJEC\\.venv\\lib\\site-packages\\keras\\utils\\traceback_utils.py:65\u001b[0m, in \u001b[0;36mfilter_traceback.<locals>.error_handler\u001b[1;34m(*args, **kwargs)\u001b[0m\n\u001b[0;32m     63\u001b[0m filtered_tb \u001b[39m=\u001b[39m \u001b[39mNone\u001b[39;00m\n\u001b[0;32m     64\u001b[0m \u001b[39mtry\u001b[39;00m:\n\u001b[1;32m---> 65\u001b[0m     \u001b[39mreturn\u001b[39;00m fn(\u001b[39m*\u001b[39margs, \u001b[39m*\u001b[39m\u001b[39m*\u001b[39mkwargs)\n\u001b[0;32m     66\u001b[0m \u001b[39mexcept\u001b[39;00m \u001b[39mException\u001b[39;00m \u001b[39mas\u001b[39;00m e:\n\u001b[0;32m     67\u001b[0m     filtered_tb \u001b[39m=\u001b[39m _process_traceback_frames(e\u001b[39m.\u001b[39m__traceback__)\n",
      "File \u001b[1;32mc:\\Users\\cl502_12\\Desktop\\FINAL_YEAR_PROJEC\\.venv\\lib\\site-packages\\keras\\engine\\training.py:2253\u001b[0m, in \u001b[0;36mModel.predict\u001b[1;34m(self, x, batch_size, verbose, steps, callbacks, max_queue_size, workers, use_multiprocessing)\u001b[0m\n\u001b[0;32m   2251\u001b[0m \u001b[39mfor\u001b[39;00m step \u001b[39min\u001b[39;00m data_handler\u001b[39m.\u001b[39msteps():\n\u001b[0;32m   2252\u001b[0m     callbacks\u001b[39m.\u001b[39mon_predict_batch_begin(step)\n\u001b[1;32m-> 2253\u001b[0m     tmp_batch_outputs \u001b[39m=\u001b[39m \u001b[39mself\u001b[39;49m\u001b[39m.\u001b[39;49mpredict_function(iterator)\n\u001b[0;32m   2254\u001b[0m     \u001b[39mif\u001b[39;00m data_handler\u001b[39m.\u001b[39mshould_sync:\n\u001b[0;32m   2255\u001b[0m         context\u001b[39m.\u001b[39masync_wait()\n",
      "File \u001b[1;32mc:\\Users\\cl502_12\\Desktop\\FINAL_YEAR_PROJEC\\.venv\\lib\\site-packages\\tensorflow\\python\\util\\traceback_utils.py:150\u001b[0m, in \u001b[0;36mfilter_traceback.<locals>.error_handler\u001b[1;34m(*args, **kwargs)\u001b[0m\n\u001b[0;32m    148\u001b[0m filtered_tb \u001b[39m=\u001b[39m \u001b[39mNone\u001b[39;00m\n\u001b[0;32m    149\u001b[0m \u001b[39mtry\u001b[39;00m:\n\u001b[1;32m--> 150\u001b[0m   \u001b[39mreturn\u001b[39;00m fn(\u001b[39m*\u001b[39margs, \u001b[39m*\u001b[39m\u001b[39m*\u001b[39mkwargs)\n\u001b[0;32m    151\u001b[0m \u001b[39mexcept\u001b[39;00m \u001b[39mException\u001b[39;00m \u001b[39mas\u001b[39;00m e:\n\u001b[0;32m    152\u001b[0m   filtered_tb \u001b[39m=\u001b[39m _process_traceback_frames(e\u001b[39m.\u001b[39m__traceback__)\n",
      "File \u001b[1;32mc:\\Users\\cl502_12\\Desktop\\FINAL_YEAR_PROJEC\\.venv\\lib\\site-packages\\tensorflow\\python\\eager\\def_function.py:915\u001b[0m, in \u001b[0;36mFunction.__call__\u001b[1;34m(self, *args, **kwds)\u001b[0m\n\u001b[0;32m    912\u001b[0m compiler \u001b[39m=\u001b[39m \u001b[39m\"\u001b[39m\u001b[39mxla\u001b[39m\u001b[39m\"\u001b[39m \u001b[39mif\u001b[39;00m \u001b[39mself\u001b[39m\u001b[39m.\u001b[39m_jit_compile \u001b[39melse\u001b[39;00m \u001b[39m\"\u001b[39m\u001b[39mnonXla\u001b[39m\u001b[39m\"\u001b[39m\n\u001b[0;32m    914\u001b[0m \u001b[39mwith\u001b[39;00m OptionalXlaContext(\u001b[39mself\u001b[39m\u001b[39m.\u001b[39m_jit_compile):\n\u001b[1;32m--> 915\u001b[0m   result \u001b[39m=\u001b[39m \u001b[39mself\u001b[39m\u001b[39m.\u001b[39m_call(\u001b[39m*\u001b[39margs, \u001b[39m*\u001b[39m\u001b[39m*\u001b[39mkwds)\n\u001b[0;32m    917\u001b[0m new_tracing_count \u001b[39m=\u001b[39m \u001b[39mself\u001b[39m\u001b[39m.\u001b[39mexperimental_get_tracing_count()\n\u001b[0;32m    918\u001b[0m without_tracing \u001b[39m=\u001b[39m (tracing_count \u001b[39m==\u001b[39m new_tracing_count)\n",
      "File \u001b[1;32mc:\\Users\\cl502_12\\Desktop\\FINAL_YEAR_PROJEC\\.venv\\lib\\site-packages\\tensorflow\\python\\eager\\def_function.py:954\u001b[0m, in \u001b[0;36mFunction._call\u001b[1;34m(self, *args, **kwds)\u001b[0m\n\u001b[0;32m    951\u001b[0m \u001b[39mself\u001b[39m\u001b[39m.\u001b[39m_lock\u001b[39m.\u001b[39mrelease()\n\u001b[0;32m    952\u001b[0m \u001b[39m# In this case we have not created variables on the first call. So we can\u001b[39;00m\n\u001b[0;32m    953\u001b[0m \u001b[39m# run the first trace but we should fail if variables are created.\u001b[39;00m\n\u001b[1;32m--> 954\u001b[0m results \u001b[39m=\u001b[39m \u001b[39mself\u001b[39m\u001b[39m.\u001b[39m_stateful_fn(\u001b[39m*\u001b[39margs, \u001b[39m*\u001b[39m\u001b[39m*\u001b[39mkwds)\n\u001b[0;32m    955\u001b[0m \u001b[39mif\u001b[39;00m \u001b[39mself\u001b[39m\u001b[39m.\u001b[39m_created_variables \u001b[39mand\u001b[39;00m \u001b[39mnot\u001b[39;00m ALLOW_DYNAMIC_VARIABLE_CREATION:\n\u001b[0;32m    956\u001b[0m   \u001b[39mraise\u001b[39;00m \u001b[39mValueError\u001b[39;00m(\u001b[39m\"\u001b[39m\u001b[39mCreating variables on a non-first call to a function\u001b[39m\u001b[39m\"\u001b[39m\n\u001b[0;32m    957\u001b[0m                    \u001b[39m\"\u001b[39m\u001b[39m decorated with tf.function.\u001b[39m\u001b[39m\"\u001b[39m)\n",
      "File \u001b[1;32mc:\\Users\\cl502_12\\Desktop\\FINAL_YEAR_PROJEC\\.venv\\lib\\site-packages\\tensorflow\\python\\eager\\function.py:2496\u001b[0m, in \u001b[0;36mFunction.__call__\u001b[1;34m(self, *args, **kwargs)\u001b[0m\n\u001b[0;32m   2493\u001b[0m \u001b[39mwith\u001b[39;00m \u001b[39mself\u001b[39m\u001b[39m.\u001b[39m_lock:\n\u001b[0;32m   2494\u001b[0m   (graph_function,\n\u001b[0;32m   2495\u001b[0m    filtered_flat_args) \u001b[39m=\u001b[39m \u001b[39mself\u001b[39m\u001b[39m.\u001b[39m_maybe_define_function(args, kwargs)\n\u001b[1;32m-> 2496\u001b[0m \u001b[39mreturn\u001b[39;00m graph_function\u001b[39m.\u001b[39;49m_call_flat(\n\u001b[0;32m   2497\u001b[0m     filtered_flat_args, captured_inputs\u001b[39m=\u001b[39;49mgraph_function\u001b[39m.\u001b[39;49mcaptured_inputs)\n",
      "File \u001b[1;32mc:\\Users\\cl502_12\\Desktop\\FINAL_YEAR_PROJEC\\.venv\\lib\\site-packages\\tensorflow\\python\\eager\\function.py:1862\u001b[0m, in \u001b[0;36mConcreteFunction._call_flat\u001b[1;34m(self, args, captured_inputs, cancellation_manager)\u001b[0m\n\u001b[0;32m   1858\u001b[0m possible_gradient_type \u001b[39m=\u001b[39m gradients_util\u001b[39m.\u001b[39mPossibleTapeGradientTypes(args)\n\u001b[0;32m   1859\u001b[0m \u001b[39mif\u001b[39;00m (possible_gradient_type \u001b[39m==\u001b[39m gradients_util\u001b[39m.\u001b[39mPOSSIBLE_GRADIENT_TYPES_NONE\n\u001b[0;32m   1860\u001b[0m     \u001b[39mand\u001b[39;00m executing_eagerly):\n\u001b[0;32m   1861\u001b[0m   \u001b[39m# No tape is watching; skip to running the function.\u001b[39;00m\n\u001b[1;32m-> 1862\u001b[0m   \u001b[39mreturn\u001b[39;00m \u001b[39mself\u001b[39m\u001b[39m.\u001b[39m_build_call_outputs(\u001b[39mself\u001b[39;49m\u001b[39m.\u001b[39;49m_inference_function\u001b[39m.\u001b[39;49mcall(\n\u001b[0;32m   1863\u001b[0m       ctx, args, cancellation_manager\u001b[39m=\u001b[39;49mcancellation_manager))\n\u001b[0;32m   1864\u001b[0m forward_backward \u001b[39m=\u001b[39m \u001b[39mself\u001b[39m\u001b[39m.\u001b[39m_select_forward_and_backward_functions(\n\u001b[0;32m   1865\u001b[0m     args,\n\u001b[0;32m   1866\u001b[0m     possible_gradient_type,\n\u001b[0;32m   1867\u001b[0m     executing_eagerly)\n\u001b[0;32m   1868\u001b[0m forward_function, args_with_tangents \u001b[39m=\u001b[39m forward_backward\u001b[39m.\u001b[39mforward()\n",
      "File \u001b[1;32mc:\\Users\\cl502_12\\Desktop\\FINAL_YEAR_PROJEC\\.venv\\lib\\site-packages\\tensorflow\\python\\eager\\function.py:499\u001b[0m, in \u001b[0;36m_EagerDefinedFunction.call\u001b[1;34m(self, ctx, args, cancellation_manager)\u001b[0m\n\u001b[0;32m    497\u001b[0m \u001b[39mwith\u001b[39;00m _InterpolateFunctionError(\u001b[39mself\u001b[39m):\n\u001b[0;32m    498\u001b[0m   \u001b[39mif\u001b[39;00m cancellation_manager \u001b[39mis\u001b[39;00m \u001b[39mNone\u001b[39;00m:\n\u001b[1;32m--> 499\u001b[0m     outputs \u001b[39m=\u001b[39m execute\u001b[39m.\u001b[39;49mexecute(\n\u001b[0;32m    500\u001b[0m         \u001b[39mstr\u001b[39;49m(\u001b[39mself\u001b[39;49m\u001b[39m.\u001b[39;49msignature\u001b[39m.\u001b[39;49mname),\n\u001b[0;32m    501\u001b[0m         num_outputs\u001b[39m=\u001b[39;49m\u001b[39mself\u001b[39;49m\u001b[39m.\u001b[39;49m_num_outputs,\n\u001b[0;32m    502\u001b[0m         inputs\u001b[39m=\u001b[39;49margs,\n\u001b[0;32m    503\u001b[0m         attrs\u001b[39m=\u001b[39;49mattrs,\n\u001b[0;32m    504\u001b[0m         ctx\u001b[39m=\u001b[39;49mctx)\n\u001b[0;32m    505\u001b[0m   \u001b[39melse\u001b[39;00m:\n\u001b[0;32m    506\u001b[0m     outputs \u001b[39m=\u001b[39m execute\u001b[39m.\u001b[39mexecute_with_cancellation(\n\u001b[0;32m    507\u001b[0m         \u001b[39mstr\u001b[39m(\u001b[39mself\u001b[39m\u001b[39m.\u001b[39msignature\u001b[39m.\u001b[39mname),\n\u001b[0;32m    508\u001b[0m         num_outputs\u001b[39m=\u001b[39m\u001b[39mself\u001b[39m\u001b[39m.\u001b[39m_num_outputs,\n\u001b[1;32m   (...)\u001b[0m\n\u001b[0;32m    511\u001b[0m         ctx\u001b[39m=\u001b[39mctx,\n\u001b[0;32m    512\u001b[0m         cancellation_manager\u001b[39m=\u001b[39mcancellation_manager)\n",
      "File \u001b[1;32mc:\\Users\\cl502_12\\Desktop\\FINAL_YEAR_PROJEC\\.venv\\lib\\site-packages\\tensorflow\\python\\eager\\execute.py:54\u001b[0m, in \u001b[0;36mquick_execute\u001b[1;34m(op_name, num_outputs, inputs, attrs, ctx, name)\u001b[0m\n\u001b[0;32m     52\u001b[0m \u001b[39mtry\u001b[39;00m:\n\u001b[0;32m     53\u001b[0m   ctx\u001b[39m.\u001b[39mensure_initialized()\n\u001b[1;32m---> 54\u001b[0m   tensors \u001b[39m=\u001b[39m pywrap_tfe\u001b[39m.\u001b[39;49mTFE_Py_Execute(ctx\u001b[39m.\u001b[39;49m_handle, device_name, op_name,\n\u001b[0;32m     55\u001b[0m                                       inputs, attrs, num_outputs)\n\u001b[0;32m     56\u001b[0m \u001b[39mexcept\u001b[39;00m core\u001b[39m.\u001b[39m_NotOkStatusException \u001b[39mas\u001b[39;00m e:\n\u001b[0;32m     57\u001b[0m   \u001b[39mif\u001b[39;00m name \u001b[39mis\u001b[39;00m \u001b[39mnot\u001b[39;00m \u001b[39mNone\u001b[39;00m:\n",
      "\u001b[1;31mKeyboardInterrupt\u001b[0m: "
     ]
    }
   ],
   "source": [
    "predictions = model.predict_generator(test_batches, verbose=1)"
   ]
  },
  {
   "cell_type": "code",
   "execution_count": null,
   "metadata": {},
   "outputs": [],
   "source": [
    "predictions.shape"
   ]
  },
  {
   "cell_type": "code",
   "execution_count": null,
   "metadata": {},
   "outputs": [],
   "source": [
    "def plot_confusion_matrix(cm, classes,\n",
    "                          normalize=False,\n",
    "                          title='Confusion matrix',\n",
    "                          cmap=plt.cm.Blues):\n",
    "    \"\"\"\n",
    "    This function prints and plots the confusion matrix.\n",
    "    Normalization can be applied by setting `normalize=True`.\n",
    "    \"\"\"\n",
    "    if normalize:\n",
    "        cm = cm.astype('float') / cm.sum(axis=1)[:, np.newaxis]\n",
    "        print(\"Normalized confusion matrix\")\n",
    "    else:\n",
    "        print('Confusion matrix, without normalization')\n",
    "\n",
    "    print(cm)\n",
    "\n",
    "    plt.imshow(cm, interpolation='nearest', cmap=cmap)\n",
    "    plt.title(title)\n",
    "    plt.colorbar()\n",
    "    tick_marks = np.arange(len(classes))\n",
    "    plt.xticks(tick_marks, classes, rotation=45)\n",
    "    plt.yticks(tick_marks, classes)\n",
    "\n",
    "    fmt = '.2f' if normalize else 'd'\n",
    "    thresh = cm.max() / 2.\n",
    "    for i, j in itertools.product(range(cm.shape[0]), range(cm.shape[1])):\n",
    "        plt.text(j, i, format(cm[i, j], fmt),\n",
    "                 horizontalalignment=\"center\",\n",
    "                 color=\"white\" if cm[i, j] > thresh else \"black\")\n",
    "\n",
    "    plt.ylabel('True label')\n",
    "    plt.xlabel('Predicted label')\n",
    "    plt.tight_layout()"
   ]
  },
  {
   "cell_type": "code",
   "execution_count": null,
   "metadata": {},
   "outputs": [],
   "source": [
    "test_labels.shape"
   ]
  },
  {
   "cell_type": "code",
   "execution_count": null,
   "metadata": {},
   "outputs": [],
   "source": [
    "cm = confusion_matrix(test_labels, predictions.argmax(axis=1))"
   ]
  },
  {
   "cell_type": "code",
   "execution_count": null,
   "metadata": {},
   "outputs": [],
   "source": [
    "test_batches.class_indices"
   ]
  },
  {
   "cell_type": "code",
   "execution_count": null,
   "metadata": {},
   "outputs": [],
   "source": [
    "cm_plot_labels = ['AK' ,'BCC', 'BKL', 'DF', 'MEL', 'NV', 'SCC', 'VASC']\n",
    "\n",
    "plot_confusion_matrix(cm, cm_plot_labels, title='Confusion Matrix')"
   ]
  }
 ],
 "metadata": {
  "kernelspec": {
   "display_name": ".venv",
   "language": "python",
   "name": "python3"
  },
  "language_info": {
   "codemirror_mode": {
    "name": "ipython",
    "version": 3
   },
   "file_extension": ".py",
   "mimetype": "text/x-python",
   "name": "python",
   "nbconvert_exporter": "python",
   "pygments_lexer": "ipython3",
   "version": "3.10.11"
  }
 },
 "nbformat": 4,
 "nbformat_minor": 2
}
